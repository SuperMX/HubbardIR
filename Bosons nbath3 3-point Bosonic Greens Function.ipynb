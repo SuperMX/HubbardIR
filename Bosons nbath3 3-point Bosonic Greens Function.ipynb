{
 "cells": [
  {
   "cell_type": "code",
   "execution_count": 1,
   "metadata": {},
   "outputs": [
    {
     "name": "stderr",
     "output_type": "stream",
     "text": [
      "\u001b[32m\u001b[1m    Updating\u001b[22m\u001b[39m registry at `C:\\Users\\Markus\\.julia\\registries\\General.toml`\n",
      "\u001b[32m\u001b[1m   Resolving\u001b[22m\u001b[39m package versions...\n",
      "\u001b[32m\u001b[1m  No Changes\u001b[22m\u001b[39m to `C:\\Users\\Markus\\.julia\\environments\\v1.7\\Project.toml`\n",
      "\u001b[32m\u001b[1m  No Changes\u001b[22m\u001b[39m to `C:\\Users\\Markus\\.julia\\environments\\v1.7\\Manifest.toml`\n",
      "\u001b[32m\u001b[1m   Resolving\u001b[22m\u001b[39m package versions...\n",
      "\u001b[32m\u001b[1m  No Changes\u001b[22m\u001b[39m to `C:\\Users\\Markus\\.julia\\environments\\v1.7\\Project.toml`\n",
      "\u001b[32m\u001b[1m  No Changes\u001b[22m\u001b[39m to `C:\\Users\\Markus\\.julia\\environments\\v1.7\\Manifest.toml`\n"
     ]
    }
   ],
   "source": [
    "using LinearAlgebra\n",
    "import Pkg\n",
    "Pkg.add(\"Plots\")\n",
    "using Plots\n",
    "Pkg.add(\"LaTeXStrings\")\n",
    "using LaTeXStrings\n",
    "using Fermions"
   ]
  },
  {
   "cell_type": "markdown",
   "metadata": {},
   "source": [
    "Anderson impurity model with 1 atom and several bath sites (not half-filled)\n",
    "----------------------------------------------------------------------------------------\n",
    "\n",
    "$$\n",
    "H = -\\mu \\sum_\\sigma c^\\dagger_{1\\sigma} c_{1\\sigma} + U n_{1\\uparrow} n_{1\\downarrow} \n",
    "+ \\sum_{i>1,\\sigma} V_{1i} c^\\dagger_{1\\sigma} c_{i\\sigma} + h.c. - \\sum_{i>1,\\sigma} \\epsilon_{i} c^\\dagger_{i\\sigma} c_{i\\sigma}\n",
    "$$\n",
    "where the flavours are $\\uparrow1, \\uparrow2, \\uparrow3, \\downarrow1, \\downarrow2, \\downarrow3 \\cdots$"
   ]
  },
  {
   "cell_type": "code",
   "execution_count": 2,
   "metadata": {},
   "outputs": [
    {
     "data": {
      "text/plain": [
       "3-element Vector{Float64}:\n",
       " 1.2831822317971833\n",
       " 0.5552859983828153\n",
       " 1.3445093231361396"
      ]
     },
     "execution_count": 2,
     "metadata": {},
     "output_type": "execute_result"
    }
   ],
   "source": [
    "nsites = 4\n",
    "#t = 1.0\n",
    "u = 2.0\n",
    "mu = 1.33168\n",
    "\n",
    "# 6 bath sites (GF is fast, but P3 takes quite long)\n",
    "#epsilons = [-3.3222061 , -1.39508342, -0.27908811,  0.36578404,  1.62122836,\n",
    " #       3.76701005]\n",
    "#vksq = [0.70669434, 0.88584406, 0.33253184, 0.33283158, 0.96772167,\n",
    "  #     0.77189007]\n",
    "\n",
    "# 5 bath sites\n",
    "#epsilons = [-2.79245855, -0.8460881 ,  0.00907373,  1.00479852,  3.17202384]\n",
    "#vksq = [1.06150688, 0.73752328, 0.23223445, 0.79217678, 1.16486242]\n",
    "\n",
    "# 4 bath sites\n",
    "#epsilons = [-2.22846159, -0.36627436,  0.45552273,  2.5497922 ]\n",
    "#vksq = [1.41296559, 0.4824027 , 0.49958433, 1.54991471]\n",
    "#vks = sqrt.(vksq)\n",
    "\n",
    "# 3 bath sites\n",
    "epsilons = [-1.59210263e+00, -1.59477752e-03,  1.82320307e+00]\n",
    "vksq = [1.64655664, 0.30834254, 1.80770532]\n",
    "vks = sqrt.(vksq)"
   ]
  },
  {
   "cell_type": "markdown",
   "metadata": {},
   "source": [
    "First, we need to create a finite Fock space. Since we have `nsites` sites with two spins each, the number of flavours is `2 * nsites`"
   ]
  },
  {
   "cell_type": "code",
   "execution_count": 3,
   "metadata": {},
   "outputs": [
    {
     "data": {
      "text/plain": [
       "FockSpace{UInt64}(8, 0x00000000000000ff)"
      ]
     },
     "execution_count": 3,
     "metadata": {},
     "output_type": "execute_result"
    }
   ],
   "source": [
    "space = FockSpace(2 * nsites)"
   ]
  },
  {
   "cell_type": "markdown",
   "metadata": {},
   "source": [
    "To express the Hamiltonian above, we need the annihilation operators\n",
    "$c_{i\\sigma}$. `annihilators` returns an array of these objects. Now,\n",
    "to add a spin dimension, we simply reshape that array so that the second index corresponds to a spin index."
   ]
  },
  {
   "cell_type": "code",
   "execution_count": 4,
   "metadata": {},
   "outputs": [
    {
     "data": {
      "text/plain": [
       "4×2 Matrix{Operator{Int8, Tuple{Term{Int8, UInt64}}, FockSpace{UInt64}}}:\n",
       " 1 c[1]  1 c[5]\n",
       " 1 c[2]  1 c[6]\n",
       " 1 c[3]  1 c[7]\n",
       " 1 c[4]  1 c[8]"
      ]
     },
     "execution_count": 4,
     "metadata": {},
     "output_type": "execute_result"
    }
   ],
   "source": [
    "c = reshape(annihilators(space), (nsites, 2))"
   ]
  },
  {
   "cell_type": "markdown",
   "metadata": {},
   "source": [
    "The creation operator is simply given by conjugate transpose, e.g., `c[1,1]'`.  A normal ordered product (`Term`) can now be formed by simply multiplying operators:"
   ]
  },
  {
   "cell_type": "markdown",
   "metadata": {},
   "source": [
    "Creating the Hamiltonian now involves a sum of terms.  For this,\n",
    "we create a `Operator` instance and simply add terms to it:"
   ]
  },
  {
   "cell_type": "code",
   "execution_count": 5,
   "metadata": {},
   "outputs": [
    {
     "data": {
      "text/plain": [
       "Operator{Float64, Vector{Term{Float64, UInt64}}, FockSpace{UInt64}} for 8 flavours (21 terms):\n",
       "1.3445093231361396 c[5]' c[8]\n",
       "0.5552859983828153 c[5]' c[7]\n",
       "1.2831822317971833 c[5]' c[6]\n",
       "1.3445093231361396 c[1]' c[4]\n",
       "0.5552859983828153 c[1]' c[3]\n",
       "1.2831822317971833 c[1]' c[2]\n",
       "-1.33168 n[1]\n",
       "1.59210263 n[2]\n",
       "0.00159477752 n[3]\n",
       "-1.82320307 n[4]\n",
       "-1.33168 n[5]\n",
       "2.0 n[1] n[5]\n",
       "1.59210263 n[6]\n",
       "0.00159477752 n[7]\n",
       "-1.82320307 n[8]\n",
       "1.2831822317971833 c[2]' c[1]\n",
       "0.5552859983828153 c[3]' c[1]\n",
       "1.3445093231361396 c[4]' c[1]\n",
       "1.2831822317971833 c[6]' c[5]\n",
       "0.5552859983828153 c[7]' c[5]\n",
       "1.3445093231361396 c[8]' c[5]"
      ]
     },
     "execution_count": 5,
     "metadata": {},
     "output_type": "execute_result"
    }
   ],
   "source": [
    "H = Operator(space)\n",
    "H -= mu * (c[1,1]' * c[1,1] + c[1,2]' * c[1,2]) \n",
    "H += u * c[1,1]' * c[1,2]' * c[1,2] * c[1,1]\n",
    "for i in 2:nsites\n",
    "    for σ in 1:2\n",
    "        H -= epsilons[i-1] * c[i,σ]' * c[i,σ]\n",
    "        H += vks[i-1] * (c[1,σ]' * c[i,σ] + c[i,σ]' * c[1,σ])\n",
    "    end\n",
    "end\n",
    "H"
   ]
  },
  {
   "cell_type": "code",
   "execution_count": 6,
   "metadata": {},
   "outputs": [
    {
     "data": {
      "text/plain": [
       "256×256 SparseMatrixCSC{Float64, Int64} with 1023 stored entries:\n",
       "⢿⢗⡄⠀⠀⠀⠀⠀⠀⠀⠀⠀⠀⠀⠀⠀⠀⠀⠀⠀⠀⠀⠀⠀⠀⠀⠀⠀⠀⠀⠀⠀⠀⠀⠀⠀⠀⠀⠀⠀\n",
       "⠀⠉⢱⣶⢄⢢⡀⠀⠀⠀⢦⡀⠀⠀⠀⠀⠀⠀⠀⠀⢦⡀⠀⠀⠀⠀⠀⠀⠀⠀⠀⠀⠀⠀⠀⠀⠀⠀⠀⠀\n",
       "⠀⠀⠠⣑⠛⣤⣌⡢⠀⠀⠀⠈⠆⠀⠀⠀⠀⠀⠀⠀⠀⠙⠆⠀⠀⠀⠀⠀⠀⠀⠀⠀⠀⠀⠀⠀⠀⠀⠀⠀\n",
       "⠀⠀⠀⠈⠢⡹⠵⢇⣀⠀⠀⠀⠀⠀⠀⡀⠀⠀⠀⠀⠀⠀⠀⠀⠀⡀⠀⠀⠀⠀⠀⠀⠀⠀⠀⠀⠀⠀⠀⠀\n",
       "⠀⠀⠀⠀⠀⠀⠀⠘⣟⣽⠀⠀⠀⠀⠀⠈⢢⡀⠀⠀⠀⠀⠀⠀⠀⠙⢦⡀⠀⠀⠀⠀⠀⠀⠀⠀⠀⠀⠀⠀\n",
       "⠀⠀⠈⠳⡀⠀⠀⠀⠀⠀⢿⢗⡆⠀⠀⠀⠀⠁⠀⠀⠀⠀⠀⠀⠀⠀⠀⠁⠀⠀⠀⠀⠀⠀⠀⠀⠀⠀⠀⠀\n",
       "⠀⠀⠀⠀⠈⠁⠀⠀⠀⠀⠈⠉⢱⣶⢤⠢⡀⠀⠀⠀⠀⠀⠀⠀⠀⠀⠀⠀⠀⠐⢦⡀⠀⠀⠀⠀⠀⠀⠀⠀\n",
       "⠀⠀⠀⠀⠀⠀⠀⠠⡀⠀⠀⠀⠠⡓⠛⣤⣜⠂⠀⠀⠀⠀⠀⠀⠀⠀⠀⠀⠀⠀⠀⠙⠂⠀⠀⠀⠀⠀⠀⠀\n",
       "⠀⠀⠀⠀⠀⠀⠀⠀⠈⠲⠄⠀⠀⠈⠲⠙⠵⢇⣀⠀⠀⠀⠀⠀⠀⠀⠀⠀⠀⠀⠀⠀⠀⠀⢀⡀⠀⠀⠀⠀\n",
       "⠀⠀⠀⠀⠀⠀⠀⠀⠀⠀⠀⠀⠀⠀⠀⠀⠀⠘⢿⣷⠀⠀⠀⠀⠀⠀⠀⠀⠀⠀⠀⠀⠀⠀⠀⠙⢦⡀⠀⠀\n",
       "⠀⠀⠈⠳⣄⠀⠀⠀⠀⠀⠀⠀⠀⠀⠀⠀⠀⠀⠀⠀⢿⣷⡄⠀⠀⠀⠀⠀⠀⠀⠀⠀⠀⠀⠀⠀⠀⠀⠀⠀\n",
       "⠀⠀⠀⠀⠈⠁⠀⠀⠀⠀⠀⠀⠀⠀⠀⠀⠀⠀⠀⠀⠀⠉⢱⢖⣄⠦⡀⠀⠀⠐⠦⡀⠀⠀⠀⠀⠀⠀⠀⠀\n",
       "⠀⠀⠀⠀⠀⠀⠀⠠⣄⠀⠀⠀⠀⠀⠀⠀⠀⠀⠀⠀⠀⠀⠠⡝⠛⣤⢬⠂⠀⠀⠀⠈⠂⠀⠀⠀⠀⠀⠀⠀\n",
       "⠀⠀⠀⠀⠀⠀⠀⠀⠈⠳⠄⠀⠀⠀⠀⠀⠀⠀⠀⠀⠀⠀⠀⠈⠢⠓⠿⢇⣀⡀⠀⠀⠀⠀⢀⡀⠀⠀⠀⠀\n",
       "⠀⠀⠀⠀⠀⠀⠀⠀⠀⠀⠀⠀⢀⠀⠀⠀⠀⠀⠀⠀⠀⠀⢀⠀⠀⠀⠀⠸⢵⣷⠀⠀⠀⠀⠀⠈⢦⡀⠀⠀\n",
       "⠀⠀⠀⠀⠀⠀⠀⠀⠀⠀⠀⠀⠈⠳⣄⠀⠀⠀⠀⠀⠀⠀⠈⠣⡀⠀⠀⠀⠀⠀⣟⣽⡄⠀⠀⠀⠀⠀⠀⠀\n",
       "⠀⠀⠀⠀⠀⠀⠀⠀⠀⠀⠀⠀⠀⠀⠈⠀⠀⠀⠀⠀⠀⠀⠀⠀⠈⠀⠀⠀⠀⠀⠀⠉⢱⢖⣎⠢⡀⠀⠀⠀\n",
       "⠀⠀⠀⠀⠀⠀⠀⠀⠀⠀⠀⠀⠀⠀⠀⠀⠀⠰⣄⠀⠀⠀⠀⠀⠀⠀⠀⠰⡀⠀⠀⠀⠪⡙⠛⣤⢍⠂⠀⠀\n",
       "⠀⠀⠀⠀⠀⠀⠀⠀⠀⠀⠀⠀⠀⠀⠀⠀⠀⠀⠈⠳⠀⠀⠀⠀⠀⠀⠀⠀⠈⠳⠀⠀⠀⠈⠣⠑⠿⢇⣀⠀\n",
       "⠀⠀⠀⠀⠀⠀⠀⠀⠀⠀⠀⠀⠀⠀⠀⠀⠀⠀⠀⠀⠀⠀⠀⠀⠀⠀⠀⠀⠀⠀⠀⠀⠀⠀⠀⠀⠀⠘⢵⣷"
      ]
     },
     "execution_count": 6,
     "metadata": {},
     "output_type": "execute_result"
    }
   ],
   "source": [
    "ishermitian(H)\n",
    "\n",
    "using SparseArrays\n",
    "sparse(H)"
   ]
  },
  {
   "cell_type": "markdown",
   "metadata": {},
   "source": [
    "**On-the-fly evaluation**\n",
    "\n",
    "The elements are not stored anywhere, which means the size grows only with the number of terms:"
   ]
  },
  {
   "cell_type": "markdown",
   "metadata": {},
   "source": [
    "If we want to construct a CSC sparse matrix from the operator, then one \n",
    "can use the `sparse()` function.  For small matrices, one can also\n",
    "use the `Array()` function to get a dense matrix instead."
   ]
  },
  {
   "cell_type": "markdown",
   "metadata": {},
   "source": [
    "Using symmetries\n",
    "----------------"
   ]
  },
  {
   "cell_type": "markdown",
   "metadata": {},
   "source": [
    "Even with on-the-fly evaluation, the Fock space will grow too quickly,\n",
    "which bars us from constructing the vectors.  However, we can remedy\n",
    "that using symmetries.\n",
    "\n",
    "The Hamiltonian conserves the total number of particles $N$ as well\n",
    "as the total spin in $z$-direction $S_{z,tot}$.  We construct a\n",
    "set of quantum numbers for those:"
   ]
  },
  {
   "cell_type": "code",
   "execution_count": 7,
   "metadata": {},
   "outputs": [
    {
     "data": {
      "text/plain": [
       "NSet{2}(FockSpace{UInt64}(8, 0x00000000000000ff), 4, 4)"
      ]
     },
     "execution_count": 7,
     "metadata": {},
     "output_type": "execute_result"
    }
   ],
   "source": [
    "quantum_numbers = NSzSet(space)"
   ]
  },
  {
   "cell_type": "code",
   "execution_count": 8,
   "metadata": {},
   "outputs": [
    {
     "data": {
      "text/plain": [
       "true"
      ]
     },
     "execution_count": 8,
     "metadata": {},
     "output_type": "execute_result"
    }
   ],
   "source": [
    "conserves(quantum_numbers, H)"
   ]
  },
  {
   "cell_type": "markdown",
   "metadata": {},
   "source": [
    "This partitions the Fock space into a set of blocks"
   ]
  },
  {
   "cell_type": "markdown",
   "metadata": {},
   "source": [
    "**Block operator**\n",
    "\n",
    "We can also construct just one block for some values of quantum numbers.\n",
    "For example, the following gets only the block with a filling close to\n",
    "half in each spin."
   ]
  },
  {
   "cell_type": "code",
   "execution_count": 9,
   "metadata": {},
   "outputs": [],
   "source": [
    "using Fermions.Propagators\n",
    "#Pkg.add(\"SparseIR\")\n",
    "using SparseIR"
   ]
  },
  {
   "cell_type": "code",
   "execution_count": 10,
   "metadata": {},
   "outputs": [
    {
     "data": {
      "text/plain": [
       "10"
      ]
     },
     "execution_count": 10,
     "metadata": {},
     "output_type": "execute_result"
    }
   ],
   "source": [
    "beta = 10"
   ]
  },
  {
   "cell_type": "code",
   "execution_count": 11,
   "metadata": {},
   "outputs": [
    {
     "data": {
      "text/plain": [
       "HamiltonianEigen{Operator{Float64, Vector{Term{Float64, UInt64}}, FockSpace{UInt64}}, NSet{2}, Tuple{Int64, Int64}, Fermions.NSetBlock{2}, Eigen{Float64, Float64, Matrix{Float64}, Vector{Float64}}}(1.3445093231361396 c[5]' c[8]\n",
       "0.5552859983828153 c[5]' c[7]\n",
       "1.2831822317971833 c[5]' c[6]\n",
       "1.3445093231361396 c[1]' c[4]\n",
       "0.5552859983828153 c[1]' c[3]\n",
       "1.2831822317971833 c[1]' c[2]\n",
       "-1.33168 n[1]\n",
       "1.59210263 n[2]\n",
       "0.00159477752 n[3]\n",
       "-1.82320307 n[4]\n",
       "-1.33168 n[5]\n",
       "2.0 n[1] n[5]\n",
       "1.59210263 n[6]\n",
       "0.00159477752 n[7]\n",
       "-1.82320307 n[8]\n",
       "1.2831822317971833 c[2]' c[1]\n",
       "0.5552859983828153 c[3]' c[1]\n",
       "1.3445093231361396 c[4]' c[1]\n",
       "1.2831822317971833 c[6]' c[5]\n",
       "0.5552859983828153 c[7]' c[5]\n",
       "1.3445093231361396 c[8]' c[5], NSet{2}(FockSpace{UInt64}(8, 0x00000000000000ff), 4, 4), Dict{Tuple{Int64, Int64}, Fermions.NSetBlock{2}}((1, 2) => Fermions.NSetBlock{2}(nflv=8, Ntot=1, Ntot=2), (3, 1) => Fermions.NSetBlock{2}(nflv=8, Ntot=3, Ntot=1), (0, 2) => Fermions.NSetBlock{2}(nflv=8, Ntot=0, Ntot=2), (1, 3) => Fermions.NSetBlock{2}(nflv=8, Ntot=1, Ntot=3), (0, 3) => Fermions.NSetBlock{2}(nflv=8, Ntot=0, Ntot=3), (1, 4) => Fermions.NSetBlock{2}(nflv=8, Ntot=1, Ntot=4), (0, 4) => Fermions.NSetBlock{2}(nflv=8, Ntot=0, Ntot=4), (3, 2) => Fermions.NSetBlock{2}(nflv=8, Ntot=3, Ntot=2), (4, 0) => Fermions.NSetBlock{2}(nflv=8, Ntot=4, Ntot=0), (2, 0) => Fermions.NSetBlock{2}(nflv=8, Ntot=2, Ntot=0)…), Dict{Tuple{Int64, Int64}, Eigen{Float64, Float64, Matrix{Float64}, Vector{Float64}}}((1, 2) => Eigen{Float64, Float64, Matrix{Float64}, Vector{Float64}}([0.43240489984523656, 1.2342866212387449, 2.672212403913239, 3.223990527619609, 3.2693862921336265, 3.6035839527547733, 3.7367210042123036, 4.33325659376574, 5.253945013041334, 5.647456823640621  …  6.511598497291258, 6.8396033362023045, 7.898846059716563, 8.416881302467173, 8.575027033614576, 8.83158994754946, 8.92440294017802, 9.584848482290134, 10.78803165965062, 11.610471687777457], [-0.05181040032800223 0.07234112885250761 … 0.3774552264218085 0.2508018782915283; 0.015950457912611977 -0.022269722791230254 … 0.47786348346326646 0.3565684696550937; … ; 0.051766035744393646 0.07481657647035417 … -0.015189398492787706 0.011545020627306835; 0.3550431643086753 0.44839697416030705 … -0.02105258795646291 0.015724575340974208]), (3, 1) => Eigen{Float64, Float64, Matrix{Float64}, Vector{Float64}}([0.6688777396689138, 2.663319785853184, 2.9331270389829163, 3.453041693492307, 3.748626713147786, 4.945343634750039, 5.4300869992320475, 5.796942881359571, 5.937618262676943, 6.019387611609778, 6.594318240321261, 7.839857481721857, 8.171897092336886, 8.658877283396693, 9.010893883335456, 11.009175645827181], [0.07759279187601989 -0.1434885046356769 … 0.5255182480216734 0.4464758903969687; -0.05572189345593195 0.3701194169306091 … 0.0500118889742308 -0.06407360736612722; … ; -0.7520958661412034 -0.4047694307766164 … 0.020104340330620807 0.028264418190274865; 0.3607119044878596 -0.22317329408854242 … 0.11893593490800218 0.10089381416580742]), (0, 2) => Eigen{Float64, Float64, Matrix{Float64}, Vector{Float64}}([3.093244305942916, 4.022474613520231, 6.007033334427933, 6.414326326516158, 8.39888504742386, 9.328115355001179], [-0.10214859656010684 -0.12338674617491208 … 0.6054185392128126 0.3587173009324212; -0.20679933157637428 0.6520935834454604 … 0.2144021438464586 -0.3316274104000371; … ; -0.33162741040003546 -0.21440214384646195 … -0.6520935834454633 -0.20679933157636946; -0.35871730093242654 0.6054185392128112 … -0.12338674617491109 0.10214859656010773]), (1, 3) => Eigen{Float64, Float64, Matrix{Float64}, Vector{Float64}}([0.6688777396688961, 2.663319785853182, 2.933127038982918, 3.453041693492305, 3.7486267131477824, 4.945343634750038, 5.430086999232047, 5.796942881359567, 5.937618262676948, 6.01938761160977, 6.594318240321256, 7.839857481721854, 8.171897092336884, 8.658877283396691, 9.010893883335452, 11.009175645827181], [0.07759279187602111 -0.14348850463567567 … 0.5255182480216746 -0.44647589039696867; -0.023906034104828843 0.05239427514657946 … -0.09441836384496503 -0.5933146216551194; … ; 0.04803426666109134 -0.10377089357254395 … 0.3355087723697663 -0.07526557289822855; 0.36071190448786405 -0.22317329408854483 … 0.11893593490800185 -0.10089381416580717]), (0, 3) => Eigen{Float64, Float64, Matrix{Float64}, Vector{Float64}}([3.2693862921336394, 5.25394501304133, 6.183175320618652, 8.575027033614576], [-0.13474700402097028 -0.191015463239683 0.6794573478675507 0.6954811644749955; 0.10268497763288993 0.9036417248391051 0.397906313362525 -0.12065651364341537; -0.9010462650781942 0.25741249020033263 -0.2958958394597515 0.1852028354748081; 0.39926766518783086 0.28404847442294 -0.5407900982871701 0.6837015908333194]), (1, 4) => Eigen{Float64, Float64, Matrix{Float64}, Vector{Float64}}([2.924498938198684, 5.172599698861331, 5.944660981737863, 8.117402715650318], [-0.44591201680843856 0.3831342496803634 -0.5050341846398931 -0.6319106680004811; 0.13963630250704415 -0.26580543801092615 0.6014233530469404 -0.7403641823830731; 0.09875972970014313 -0.8211648064600995 -0.5466857305511388 -0.13065063502589358; 0.8785844820377529 0.3290045234902279 -0.2904567691871916 -0.18836187692513612]), (0, 4) => Eigen{Float64, Float64, Matrix{Float64}, Vector{Float64}}([5.430086999232047], [1.0;;]), (3, 2) => Eigen{Float64, Float64, Matrix{Float64}, Vector{Float64}}([0.3228934605028453, 1.0540542422157468, 2.3653147953604634, 2.924498938198676, 3.1221260541253706, 3.28162348554822, 3.435015203466853, 3.9302166679257926, 5.172599698861332, 5.204529495425661  …  6.35719484597561, 6.488557991463092, 7.552719346435754, 8.117402715650318, 8.271424404591745, 8.461378188231869, 8.657743602669395, 9.132002672272872, 10.640616665178335, 11.370919272847106], [-0.013321898580141944 -0.029162478315583416 … -0.4906122536580426 -0.5375563370664243; 0.00969438664607749 0.0214044233509803 … 0.05340128484000361 0.06958911935275917; … ; -0.5773032721915382 0.48863155219513155 … 0.028589291846867176 -0.014031206347174585; 0.2888077168527439 -0.21454991886830138 … 0.1021046117427255 -0.049994595488395514]), (4, 0) => Eigen{Float64, Float64, Matrix{Float64}, Vector{Float64}}([5.430086999232047], [1.0;;]), (2, 0) => Eigen{Float64, Float64, Matrix{Float64}, Vector{Float64}}([3.093244305942916, 4.022474613520231, 6.007033334427933, 6.414326326516158, 8.39888504742386, 9.328115355001179], [-0.10214859656010684 -0.12338674617491208 … 0.6054185392128126 0.3587173009324212; -0.20679933157637428 0.6520935834454604 … 0.2144021438464586 -0.3316274104000371; … ; -0.33162741040003546 -0.21440214384646195 … -0.6520935834454633 -0.20679933157636946; -0.35871730093242654 0.6054185392128112 … -0.12338674617491109 0.10214859656010773])…))"
      ]
     },
     "execution_count": 11,
     "metadata": {},
     "output_type": "execute_result"
    }
   ],
   "source": [
    "ham_eb = Fermions.Propagators.HamiltonianEigen(H, quantum_numbers, beta)"
   ]
  },
  {
   "cell_type": "markdown",
   "metadata": {},
   "source": [
    "We can use the `full_tau` function of the Propagators module: it expects the operators and a tau grid to use:"
   ]
  },
  {
   "cell_type": "markdown",
   "metadata": {},
   "source": [
    "The Fourier transform is available using the `full_freq` function:\n",
    "$$\n",
    "    \\hat G(i\\omega_n) = \\int_0^\\beta \\exp(i\\omega_n\\tau) G(\\tau) d\\tau\n",
    "$$\n",
    "The Matsubara frequencies have to be specified as `FermionicFreq` or\n",
    "`BosonicFreq` objects, where the argument is the prefactor to $i\\pi/\\beta$, i.e., odd numbers for fermionic frequencies and even numbers for bosonic\n",
    "frequencies."
   ]
  },
  {
   "cell_type": "code",
   "execution_count": 12,
   "metadata": {},
   "outputs": [
    {
     "data": {
      "image/svg+xml": [
       "<?xml version=\"1.0\" encoding=\"utf-8\"?>\n",
       "<svg xmlns=\"http://www.w3.org/2000/svg\" xmlns:xlink=\"http://www.w3.org/1999/xlink\" width=\"600\" height=\"400\" viewBox=\"0 0 2400 1600\">\n",
       "<defs>\n",
       "  <clipPath id=\"clip430\">\n",
       "    <rect x=\"0\" y=\"0\" width=\"2400\" height=\"1600\"/>\n",
       "  </clipPath>\n",
       "</defs>\n",
       "<path clip-path=\"url(#clip430)\" d=\"M0 1600 L2400 1600 L2400 0 L0 0  Z\" fill=\"#ffffff\" fill-rule=\"evenodd\" fill-opacity=\"1\"/>\n",
       "<defs>\n",
       "  <clipPath id=\"clip431\">\n",
       "    <rect x=\"480\" y=\"0\" width=\"1681\" height=\"1600\"/>\n",
       "  </clipPath>\n",
       "</defs>\n",
       "<path clip-path=\"url(#clip430)\" d=\"M287.366 1423.18 L2352.76 1423.18 L2352.76 47.2441 L287.366 47.2441  Z\" fill=\"#ffffff\" fill-rule=\"evenodd\" fill-opacity=\"1\"/>\n",
       "<defs>\n",
       "  <clipPath id=\"clip432\">\n",
       "    <rect x=\"287\" y=\"47\" width=\"2066\" height=\"1377\"/>\n",
       "  </clipPath>\n",
       "</defs>\n",
       "<polyline clip-path=\"url(#clip432)\" style=\"stroke:#000000; stroke-linecap:round; stroke-linejoin:round; stroke-width:2; stroke-opacity:0.1; fill:none\" points=\"563.694,1423.18 563.694,47.2441 \"/>\n",
       "<polyline clip-path=\"url(#clip432)\" style=\"stroke:#000000; stroke-linecap:round; stroke-linejoin:round; stroke-width:2; stroke-opacity:0.1; fill:none\" points=\"941.877,1423.18 941.877,47.2441 \"/>\n",
       "<polyline clip-path=\"url(#clip432)\" style=\"stroke:#000000; stroke-linecap:round; stroke-linejoin:round; stroke-width:2; stroke-opacity:0.1; fill:none\" points=\"1320.06,1423.18 1320.06,47.2441 \"/>\n",
       "<polyline clip-path=\"url(#clip432)\" style=\"stroke:#000000; stroke-linecap:round; stroke-linejoin:round; stroke-width:2; stroke-opacity:0.1; fill:none\" points=\"1698.24,1423.18 1698.24,47.2441 \"/>\n",
       "<polyline clip-path=\"url(#clip432)\" style=\"stroke:#000000; stroke-linecap:round; stroke-linejoin:round; stroke-width:2; stroke-opacity:0.1; fill:none\" points=\"2076.43,1423.18 2076.43,47.2441 \"/>\n",
       "<polyline clip-path=\"url(#clip430)\" style=\"stroke:#000000; stroke-linecap:round; stroke-linejoin:round; stroke-width:4; stroke-opacity:1; fill:none\" points=\"287.366,1423.18 2352.76,1423.18 \"/>\n",
       "<polyline clip-path=\"url(#clip430)\" style=\"stroke:#000000; stroke-linecap:round; stroke-linejoin:round; stroke-width:4; stroke-opacity:1; fill:none\" points=\"563.694,1423.18 563.694,1404.28 \"/>\n",
       "<polyline clip-path=\"url(#clip430)\" style=\"stroke:#000000; stroke-linecap:round; stroke-linejoin:round; stroke-width:4; stroke-opacity:1; fill:none\" points=\"941.877,1423.18 941.877,1404.28 \"/>\n",
       "<polyline clip-path=\"url(#clip430)\" style=\"stroke:#000000; stroke-linecap:round; stroke-linejoin:round; stroke-width:4; stroke-opacity:1; fill:none\" points=\"1320.06,1423.18 1320.06,1404.28 \"/>\n",
       "<polyline clip-path=\"url(#clip430)\" style=\"stroke:#000000; stroke-linecap:round; stroke-linejoin:round; stroke-width:4; stroke-opacity:1; fill:none\" points=\"1698.24,1423.18 1698.24,1404.28 \"/>\n",
       "<polyline clip-path=\"url(#clip430)\" style=\"stroke:#000000; stroke-linecap:round; stroke-linejoin:round; stroke-width:4; stroke-opacity:1; fill:none\" points=\"2076.43,1423.18 2076.43,1404.28 \"/>\n",
       "<path clip-path=\"url(#clip430)\" d=\"M517.757 1468.75 L547.433 1468.75 L547.433 1472.69 L517.757 1472.69 L517.757 1468.75 Z\" fill=\"#000000\" fill-rule=\"nonzero\" fill-opacity=\"1\" /><path clip-path=\"url(#clip430)\" d=\"M558.335 1481.64 L565.974 1481.64 L565.974 1455.28 L557.664 1456.95 L557.664 1452.69 L565.928 1451.02 L570.604 1451.02 L570.604 1481.64 L578.243 1481.64 L578.243 1485.58 L558.335 1485.58 L558.335 1481.64 Z\" fill=\"#000000\" fill-rule=\"nonzero\" fill-opacity=\"1\" /><path clip-path=\"url(#clip430)\" d=\"M597.687 1454.1 Q594.076 1454.1 592.247 1457.66 Q590.442 1461.2 590.442 1468.33 Q590.442 1475.44 592.247 1479.01 Q594.076 1482.55 597.687 1482.55 Q601.321 1482.55 603.127 1479.01 Q604.955 1475.44 604.955 1468.33 Q604.955 1461.2 603.127 1457.66 Q601.321 1454.1 597.687 1454.1 M597.687 1450.39 Q603.497 1450.39 606.553 1455 Q609.631 1459.58 609.631 1468.33 Q609.631 1477.06 606.553 1481.67 Q603.497 1486.25 597.687 1486.25 Q591.877 1486.25 588.798 1481.67 Q585.743 1477.06 585.743 1468.33 Q585.743 1459.58 588.798 1455 Q591.877 1450.39 597.687 1450.39 Z\" fill=\"#000000\" fill-rule=\"nonzero\" fill-opacity=\"1\" /><path clip-path=\"url(#clip430)\" d=\"M911.519 1468.75 L941.195 1468.75 L941.195 1472.69 L911.519 1472.69 L911.519 1468.75 Z\" fill=\"#000000\" fill-rule=\"nonzero\" fill-opacity=\"1\" /><path clip-path=\"url(#clip430)\" d=\"M951.333 1451.02 L969.69 1451.02 L969.69 1454.96 L955.616 1454.96 L955.616 1463.43 Q956.634 1463.08 957.653 1462.92 Q958.671 1462.73 959.69 1462.73 Q965.477 1462.73 968.857 1465.9 Q972.236 1469.08 972.236 1474.49 Q972.236 1480.07 968.764 1483.17 Q965.292 1486.25 958.972 1486.25 Q956.796 1486.25 954.528 1485.88 Q952.283 1485.51 949.875 1484.77 L949.875 1480.07 Q951.958 1481.2 954.181 1481.76 Q956.403 1482.32 958.88 1482.32 Q962.884 1482.32 965.222 1480.21 Q967.56 1478.1 967.56 1474.49 Q967.56 1470.88 965.222 1468.77 Q962.884 1466.67 958.88 1466.67 Q957.005 1466.67 955.13 1467.08 Q953.278 1467.5 951.333 1468.38 L951.333 1451.02 Z\" fill=\"#000000\" fill-rule=\"nonzero\" fill-opacity=\"1\" /><path clip-path=\"url(#clip430)\" d=\"M1320.06 1454.1 Q1316.45 1454.1 1314.62 1457.66 Q1312.82 1461.2 1312.82 1468.33 Q1312.82 1475.44 1314.62 1479.01 Q1316.45 1482.55 1320.06 1482.55 Q1323.7 1482.55 1325.5 1479.01 Q1327.33 1475.44 1327.33 1468.33 Q1327.33 1461.2 1325.5 1457.66 Q1323.7 1454.1 1320.06 1454.1 M1320.06 1450.39 Q1325.87 1450.39 1328.93 1455 Q1332.01 1459.58 1332.01 1468.33 Q1332.01 1477.06 1328.93 1481.67 Q1325.87 1486.25 1320.06 1486.25 Q1314.25 1486.25 1311.17 1481.67 Q1308.12 1477.06 1308.12 1468.33 Q1308.12 1459.58 1311.17 1455 Q1314.25 1450.39 1320.06 1450.39 Z\" fill=\"#000000\" fill-rule=\"nonzero\" fill-opacity=\"1\" /><path clip-path=\"url(#clip430)\" d=\"M1688.52 1451.02 L1706.88 1451.02 L1706.88 1454.96 L1692.8 1454.96 L1692.8 1463.43 Q1693.82 1463.08 1694.84 1462.92 Q1695.86 1462.73 1696.88 1462.73 Q1702.67 1462.73 1706.05 1465.9 Q1709.42 1469.08 1709.42 1474.49 Q1709.42 1480.07 1705.95 1483.17 Q1702.48 1486.25 1696.16 1486.25 Q1693.99 1486.25 1691.72 1485.88 Q1689.47 1485.51 1687.06 1484.77 L1687.06 1480.07 Q1689.15 1481.2 1691.37 1481.76 Q1693.59 1482.32 1696.07 1482.32 Q1700.07 1482.32 1702.41 1480.21 Q1704.75 1478.1 1704.75 1474.49 Q1704.75 1470.88 1702.41 1468.77 Q1700.07 1466.67 1696.07 1466.67 Q1694.19 1466.67 1692.32 1467.08 Q1690.47 1467.5 1688.52 1468.38 L1688.52 1451.02 Z\" fill=\"#000000\" fill-rule=\"nonzero\" fill-opacity=\"1\" /><path clip-path=\"url(#clip430)\" d=\"M2051.12 1481.64 L2058.75 1481.64 L2058.75 1455.28 L2050.44 1456.95 L2050.44 1452.69 L2058.71 1451.02 L2063.38 1451.02 L2063.38 1481.64 L2071.02 1481.64 L2071.02 1485.58 L2051.12 1485.58 L2051.12 1481.64 Z\" fill=\"#000000\" fill-rule=\"nonzero\" fill-opacity=\"1\" /><path clip-path=\"url(#clip430)\" d=\"M2090.47 1454.1 Q2086.86 1454.1 2085.03 1457.66 Q2083.22 1461.2 2083.22 1468.33 Q2083.22 1475.44 2085.03 1479.01 Q2086.86 1482.55 2090.47 1482.55 Q2094.1 1482.55 2095.91 1479.01 Q2097.74 1475.44 2097.74 1468.33 Q2097.74 1461.2 2095.91 1457.66 Q2094.1 1454.1 2090.47 1454.1 M2090.47 1450.39 Q2096.28 1450.39 2099.33 1455 Q2102.41 1459.58 2102.41 1468.33 Q2102.41 1477.06 2099.33 1481.67 Q2096.28 1486.25 2090.47 1486.25 Q2084.66 1486.25 2081.58 1481.67 Q2078.52 1477.06 2078.52 1468.33 Q2078.52 1459.58 2081.58 1455 Q2084.66 1450.39 2090.47 1450.39 Z\" fill=\"#000000\" fill-rule=\"nonzero\" fill-opacity=\"1\" /><path clip-path=\"url(#clip430)\" d=\"M1338.73 1529.06 Q1338.73 1532.06 1337.21 1537.85 Q1336.6 1540.37 1335.76 1542.65 Q1334.96 1544.91 1333.77 1547.1 Q1332.58 1549.29 1331.19 1550.86 Q1329.81 1552.41 1328 1553.38 Q1326.2 1554.34 1324.2 1554.34 Q1321.05 1554.34 1319.18 1552.47 Q1317.34 1550.57 1316.76 1547.32 Q1312.45 1554.34 1306.68 1554.34 Q1303.11 1554.34 1301.43 1551.8 Q1299.76 1549.22 1299.76 1544.91 Q1299.76 1541.27 1300.72 1537.5 Q1302.56 1530.35 1306.13 1525.36 Q1306.62 1524.78 1307.33 1524.78 Q1307.74 1524.78 1307.94 1524.91 Q1308.52 1525.26 1308.52 1525.84 Q1308.52 1526.26 1308.2 1526.68 Q1305.94 1529.8 1304.46 1532.48 Q1302.98 1535.15 1302.3 1537.85 Q1301.79 1540.17 1301.79 1542.14 Q1301.79 1545.45 1303.2 1547.52 Q1304.65 1549.58 1307.52 1549.58 Q1310.16 1549.58 1312.48 1547.93 Q1314.8 1546.26 1316.5 1543.46 Q1316.6 1540.4 1317.34 1537.5 Q1318.02 1534.41 1319.6 1534.41 Q1320.85 1534.41 1320.85 1536.11 Q1320.85 1536.69 1320.59 1537.85 Q1319.89 1540.91 1318.6 1543.65 Q1319.05 1546.32 1320.72 1547.97 Q1322.4 1549.58 1325.07 1549.58 Q1327.55 1549.58 1329.74 1547.77 Q1331.96 1545.97 1333.38 1543.33 Q1334.83 1540.66 1335.63 1537.5 Q1335.89 1536.44 1335.89 1535.08 Q1335.89 1531.48 1333.38 1529.25 Q1332.67 1528.55 1332.67 1527.61 Q1332.67 1526.52 1333.57 1525.52 Q1334.64 1524.46 1335.89 1524.46 Q1336.83 1524.46 1337.41 1525.04 Q1338.73 1526.19 1338.73 1529.06 Z\" fill=\"#000000\" fill-rule=\"nonzero\" fill-opacity=\"1\" /><polyline clip-path=\"url(#clip432)\" style=\"stroke:#000000; stroke-linecap:round; stroke-linejoin:round; stroke-width:2; stroke-opacity:0.1; fill:none\" points=\"287.366,1296.79 2352.76,1296.79 \"/>\n",
       "<polyline clip-path=\"url(#clip432)\" style=\"stroke:#000000; stroke-linecap:round; stroke-linejoin:round; stroke-width:2; stroke-opacity:0.1; fill:none\" points=\"287.366,1016 2352.76,1016 \"/>\n",
       "<polyline clip-path=\"url(#clip432)\" style=\"stroke:#000000; stroke-linecap:round; stroke-linejoin:round; stroke-width:2; stroke-opacity:0.1; fill:none\" points=\"287.366,735.212 2352.76,735.212 \"/>\n",
       "<polyline clip-path=\"url(#clip432)\" style=\"stroke:#000000; stroke-linecap:round; stroke-linejoin:round; stroke-width:2; stroke-opacity:0.1; fill:none\" points=\"287.366,454.421 2352.76,454.421 \"/>\n",
       "<polyline clip-path=\"url(#clip432)\" style=\"stroke:#000000; stroke-linecap:round; stroke-linejoin:round; stroke-width:2; stroke-opacity:0.1; fill:none\" points=\"287.366,173.629 2352.76,173.629 \"/>\n",
       "<polyline clip-path=\"url(#clip430)\" style=\"stroke:#000000; stroke-linecap:round; stroke-linejoin:round; stroke-width:4; stroke-opacity:1; fill:none\" points=\"287.366,1423.18 287.366,47.2441 \"/>\n",
       "<polyline clip-path=\"url(#clip430)\" style=\"stroke:#000000; stroke-linecap:round; stroke-linejoin:round; stroke-width:4; stroke-opacity:1; fill:none\" points=\"287.366,1296.79 306.264,1296.79 \"/>\n",
       "<polyline clip-path=\"url(#clip430)\" style=\"stroke:#000000; stroke-linecap:round; stroke-linejoin:round; stroke-width:4; stroke-opacity:1; fill:none\" points=\"287.366,1016 306.264,1016 \"/>\n",
       "<polyline clip-path=\"url(#clip430)\" style=\"stroke:#000000; stroke-linecap:round; stroke-linejoin:round; stroke-width:4; stroke-opacity:1; fill:none\" points=\"287.366,735.212 306.264,735.212 \"/>\n",
       "<polyline clip-path=\"url(#clip430)\" style=\"stroke:#000000; stroke-linecap:round; stroke-linejoin:round; stroke-width:4; stroke-opacity:1; fill:none\" points=\"287.366,454.421 306.264,454.421 \"/>\n",
       "<polyline clip-path=\"url(#clip430)\" style=\"stroke:#000000; stroke-linecap:round; stroke-linejoin:round; stroke-width:4; stroke-opacity:1; fill:none\" points=\"287.366,173.629 306.264,173.629 \"/>\n",
       "<path clip-path=\"url(#clip430)\" d=\"M114.26 1297.25 L143.936 1297.25 L143.936 1301.18 L114.26 1301.18 L114.26 1297.25 Z\" fill=\"#000000\" fill-rule=\"nonzero\" fill-opacity=\"1\" /><path clip-path=\"url(#clip430)\" d=\"M164.028 1282.59 Q160.417 1282.59 158.589 1286.16 Q156.783 1289.7 156.783 1296.83 Q156.783 1303.94 158.589 1307.5 Q160.417 1311.04 164.028 1311.04 Q167.663 1311.04 169.468 1307.5 Q171.297 1303.94 171.297 1296.83 Q171.297 1289.7 169.468 1286.16 Q167.663 1282.59 164.028 1282.59 M164.028 1278.89 Q169.839 1278.89 172.894 1283.5 Q175.973 1288.08 175.973 1296.83 Q175.973 1305.56 172.894 1310.16 Q169.839 1314.75 164.028 1314.75 Q158.218 1314.75 155.14 1310.16 Q152.084 1305.56 152.084 1296.83 Q152.084 1288.08 155.14 1283.5 Q158.218 1278.89 164.028 1278.89 Z\" fill=\"#000000\" fill-rule=\"nonzero\" fill-opacity=\"1\" /><path clip-path=\"url(#clip430)\" d=\"M184.19 1308.2 L189.075 1308.2 L189.075 1314.07 L184.19 1314.07 L184.19 1308.2 Z\" fill=\"#000000\" fill-rule=\"nonzero\" fill-opacity=\"1\" /><path clip-path=\"url(#clip430)\" d=\"M199.306 1279.51 L217.662 1279.51 L217.662 1283.45 L203.588 1283.45 L203.588 1291.92 Q204.607 1291.57 205.625 1291.41 Q206.644 1291.23 207.662 1291.23 Q213.449 1291.23 216.829 1294.4 Q220.209 1297.57 220.209 1302.99 Q220.209 1308.57 216.736 1311.67 Q213.264 1314.75 206.945 1314.75 Q204.769 1314.75 202.5 1314.38 Q200.255 1314.01 197.848 1313.26 L197.848 1308.57 Q199.931 1309.7 202.153 1310.26 Q204.375 1310.81 206.852 1310.81 Q210.857 1310.81 213.195 1308.7 Q215.533 1306.6 215.533 1302.99 Q215.533 1299.38 213.195 1297.27 Q210.857 1295.16 206.852 1295.16 Q204.977 1295.16 203.102 1295.58 Q201.25 1296 199.306 1296.88 L199.306 1279.51 Z\" fill=\"#000000\" fill-rule=\"nonzero\" fill-opacity=\"1\" /><path clip-path=\"url(#clip430)\" d=\"M239.422 1282.59 Q235.81 1282.59 233.982 1286.16 Q232.176 1289.7 232.176 1296.83 Q232.176 1303.94 233.982 1307.5 Q235.81 1311.04 239.422 1311.04 Q243.056 1311.04 244.861 1307.5 Q246.69 1303.94 246.69 1296.83 Q246.69 1289.7 244.861 1286.16 Q243.056 1282.59 239.422 1282.59 M239.422 1278.89 Q245.232 1278.89 248.287 1283.5 Q251.366 1288.08 251.366 1296.83 Q251.366 1305.56 248.287 1310.16 Q245.232 1314.75 239.422 1314.75 Q233.611 1314.75 230.533 1310.16 Q227.477 1305.56 227.477 1296.83 Q227.477 1288.08 230.533 1283.5 Q233.611 1278.89 239.422 1278.89 Z\" fill=\"#000000\" fill-rule=\"nonzero\" fill-opacity=\"1\" /><path clip-path=\"url(#clip430)\" d=\"M115.256 1016.45 L144.931 1016.45 L144.931 1020.39 L115.256 1020.39 L115.256 1016.45 Z\" fill=\"#000000\" fill-rule=\"nonzero\" fill-opacity=\"1\" /><path clip-path=\"url(#clip430)\" d=\"M165.024 1001.8 Q161.413 1001.8 159.584 1005.37 Q157.778 1008.91 157.778 1016.04 Q157.778 1023.14 159.584 1026.71 Q161.413 1030.25 165.024 1030.25 Q168.658 1030.25 170.464 1026.71 Q172.292 1023.14 172.292 1016.04 Q172.292 1008.91 170.464 1005.37 Q168.658 1001.8 165.024 1001.8 M165.024 998.098 Q170.834 998.098 173.889 1002.7 Q176.968 1007.29 176.968 1016.04 Q176.968 1024.76 173.889 1029.37 Q170.834 1033.95 165.024 1033.95 Q159.214 1033.95 156.135 1029.37 Q153.079 1024.76 153.079 1016.04 Q153.079 1007.29 156.135 1002.7 Q159.214 998.098 165.024 998.098 Z\" fill=\"#000000\" fill-rule=\"nonzero\" fill-opacity=\"1\" /><path clip-path=\"url(#clip430)\" d=\"M185.186 1027.4 L190.07 1027.4 L190.07 1033.28 L185.186 1033.28 L185.186 1027.4 Z\" fill=\"#000000\" fill-rule=\"nonzero\" fill-opacity=\"1\" /><path clip-path=\"url(#clip430)\" d=\"M204.283 1029.35 L220.602 1029.35 L220.602 1033.28 L198.658 1033.28 L198.658 1029.35 Q201.32 1026.59 205.903 1021.96 Q210.51 1017.31 211.69 1015.97 Q213.936 1013.45 214.815 1011.71 Q215.718 1009.95 215.718 1008.26 Q215.718 1005.51 213.774 1003.77 Q211.852 1002.03 208.75 1002.03 Q206.551 1002.03 204.098 1002.8 Q201.667 1003.56 198.889 1005.11 L198.889 1000.39 Q201.713 999.256 204.167 998.677 Q206.621 998.098 208.658 998.098 Q214.028 998.098 217.223 1000.78 Q220.417 1003.47 220.417 1007.96 Q220.417 1010.09 219.607 1012.01 Q218.82 1013.91 216.713 1016.5 Q216.135 1017.17 213.033 1020.39 Q209.931 1023.58 204.283 1029.35 Z\" fill=\"#000000\" fill-rule=\"nonzero\" fill-opacity=\"1\" /><path clip-path=\"url(#clip430)\" d=\"M230.463 998.723 L248.82 998.723 L248.82 1002.66 L234.746 1002.66 L234.746 1011.13 Q235.764 1010.78 236.783 1010.62 Q237.801 1010.44 238.82 1010.44 Q244.607 1010.44 247.986 1013.61 Q251.366 1016.78 251.366 1022.2 Q251.366 1027.77 247.894 1030.88 Q244.421 1033.95 238.102 1033.95 Q235.926 1033.95 233.658 1033.58 Q231.412 1033.21 229.005 1032.47 L229.005 1027.77 Q231.088 1028.91 233.31 1029.46 Q235.533 1030.02 238.009 1030.02 Q242.014 1030.02 244.352 1027.91 Q246.69 1025.81 246.69 1022.2 Q246.69 1018.58 244.352 1016.48 Q242.014 1014.37 238.009 1014.37 Q236.135 1014.37 234.26 1014.79 Q232.408 1015.2 230.463 1016.08 L230.463 998.723 Z\" fill=\"#000000\" fill-rule=\"nonzero\" fill-opacity=\"1\" /><path clip-path=\"url(#clip430)\" d=\"M164.028 721.011 Q160.417 721.011 158.589 724.575 Q156.783 728.117 156.783 735.247 Q156.783 742.353 158.589 745.918 Q160.417 749.46 164.028 749.46 Q167.663 749.46 169.468 745.918 Q171.297 742.353 171.297 735.247 Q171.297 728.117 169.468 724.575 Q167.663 721.011 164.028 721.011 M164.028 717.307 Q169.839 717.307 172.894 721.913 Q175.973 726.497 175.973 735.247 Q175.973 743.973 172.894 748.58 Q169.839 753.163 164.028 753.163 Q158.218 753.163 155.14 748.58 Q152.084 743.973 152.084 735.247 Q152.084 726.497 155.14 721.913 Q158.218 717.307 164.028 717.307 Z\" fill=\"#000000\" fill-rule=\"nonzero\" fill-opacity=\"1\" /><path clip-path=\"url(#clip430)\" d=\"M184.19 746.612 L189.075 746.612 L189.075 752.492 L184.19 752.492 L184.19 746.612 Z\" fill=\"#000000\" fill-rule=\"nonzero\" fill-opacity=\"1\" /><path clip-path=\"url(#clip430)\" d=\"M209.26 721.011 Q205.649 721.011 203.82 724.575 Q202.014 728.117 202.014 735.247 Q202.014 742.353 203.82 745.918 Q205.649 749.46 209.26 749.46 Q212.894 749.46 214.699 745.918 Q216.528 742.353 216.528 735.247 Q216.528 728.117 214.699 724.575 Q212.894 721.011 209.26 721.011 M209.26 717.307 Q215.07 717.307 218.125 721.913 Q221.204 726.497 221.204 735.247 Q221.204 743.973 218.125 748.58 Q215.07 753.163 209.26 753.163 Q203.449 753.163 200.371 748.58 Q197.315 743.973 197.315 735.247 Q197.315 726.497 200.371 721.913 Q203.449 717.307 209.26 717.307 Z\" fill=\"#000000\" fill-rule=\"nonzero\" fill-opacity=\"1\" /><path clip-path=\"url(#clip430)\" d=\"M239.422 721.011 Q235.81 721.011 233.982 724.575 Q232.176 728.117 232.176 735.247 Q232.176 742.353 233.982 745.918 Q235.81 749.46 239.422 749.46 Q243.056 749.46 244.861 745.918 Q246.69 742.353 246.69 735.247 Q246.69 728.117 244.861 724.575 Q243.056 721.011 239.422 721.011 M239.422 717.307 Q245.232 717.307 248.287 721.913 Q251.366 726.497 251.366 735.247 Q251.366 743.973 248.287 748.58 Q245.232 753.163 239.422 753.163 Q233.611 753.163 230.533 748.58 Q227.477 743.973 227.477 735.247 Q227.477 726.497 230.533 721.913 Q233.611 717.307 239.422 717.307 Z\" fill=\"#000000\" fill-rule=\"nonzero\" fill-opacity=\"1\" /><path clip-path=\"url(#clip430)\" d=\"M165.024 440.219 Q161.413 440.219 159.584 443.784 Q157.778 447.326 157.778 454.455 Q157.778 461.562 159.584 465.126 Q161.413 468.668 165.024 468.668 Q168.658 468.668 170.464 465.126 Q172.292 461.562 172.292 454.455 Q172.292 447.326 170.464 443.784 Q168.658 440.219 165.024 440.219 M165.024 436.516 Q170.834 436.516 173.889 441.122 Q176.968 445.705 176.968 454.455 Q176.968 463.182 173.889 467.789 Q170.834 472.372 165.024 472.372 Q159.214 472.372 156.135 467.789 Q153.079 463.182 153.079 454.455 Q153.079 445.705 156.135 441.122 Q159.214 436.516 165.024 436.516 Z\" fill=\"#000000\" fill-rule=\"nonzero\" fill-opacity=\"1\" /><path clip-path=\"url(#clip430)\" d=\"M185.186 465.821 L190.07 465.821 L190.07 471.701 L185.186 471.701 L185.186 465.821 Z\" fill=\"#000000\" fill-rule=\"nonzero\" fill-opacity=\"1\" /><path clip-path=\"url(#clip430)\" d=\"M204.283 467.765 L220.602 467.765 L220.602 471.701 L198.658 471.701 L198.658 467.765 Q201.32 465.011 205.903 460.381 Q210.51 455.728 211.69 454.386 Q213.936 451.863 214.815 450.127 Q215.718 448.367 215.718 446.678 Q215.718 443.923 213.774 442.187 Q211.852 440.451 208.75 440.451 Q206.551 440.451 204.098 441.215 Q201.667 441.978 198.889 443.529 L198.889 438.807 Q201.713 437.673 204.167 437.094 Q206.621 436.516 208.658 436.516 Q214.028 436.516 217.223 439.201 Q220.417 441.886 220.417 446.377 Q220.417 448.506 219.607 450.427 Q218.82 452.326 216.713 454.918 Q216.135 455.59 213.033 458.807 Q209.931 462.002 204.283 467.765 Z\" fill=\"#000000\" fill-rule=\"nonzero\" fill-opacity=\"1\" /><path clip-path=\"url(#clip430)\" d=\"M230.463 437.141 L248.82 437.141 L248.82 441.076 L234.746 441.076 L234.746 449.548 Q235.764 449.201 236.783 449.039 Q237.801 448.853 238.82 448.853 Q244.607 448.853 247.986 452.025 Q251.366 455.196 251.366 460.613 Q251.366 466.191 247.894 469.293 Q244.421 472.372 238.102 472.372 Q235.926 472.372 233.658 472.001 Q231.412 471.631 229.005 470.89 L229.005 466.191 Q231.088 467.326 233.31 467.881 Q235.533 468.437 238.009 468.437 Q242.014 468.437 244.352 466.33 Q246.69 464.224 246.69 460.613 Q246.69 457.002 244.352 454.895 Q242.014 452.789 238.009 452.789 Q236.135 452.789 234.26 453.205 Q232.408 453.622 230.463 454.502 L230.463 437.141 Z\" fill=\"#000000\" fill-rule=\"nonzero\" fill-opacity=\"1\" /><path clip-path=\"url(#clip430)\" d=\"M164.028 159.428 Q160.417 159.428 158.589 162.993 Q156.783 166.534 156.783 173.664 Q156.783 180.77 158.589 184.335 Q160.417 187.877 164.028 187.877 Q167.663 187.877 169.468 184.335 Q171.297 180.77 171.297 173.664 Q171.297 166.534 169.468 162.993 Q167.663 159.428 164.028 159.428 M164.028 155.724 Q169.839 155.724 172.894 160.331 Q175.973 164.914 175.973 173.664 Q175.973 182.391 172.894 186.997 Q169.839 191.58 164.028 191.58 Q158.218 191.58 155.14 186.997 Q152.084 182.391 152.084 173.664 Q152.084 164.914 155.14 160.331 Q158.218 155.724 164.028 155.724 Z\" fill=\"#000000\" fill-rule=\"nonzero\" fill-opacity=\"1\" /><path clip-path=\"url(#clip430)\" d=\"M184.19 185.029 L189.075 185.029 L189.075 190.909 L184.19 190.909 L184.19 185.029 Z\" fill=\"#000000\" fill-rule=\"nonzero\" fill-opacity=\"1\" /><path clip-path=\"url(#clip430)\" d=\"M199.306 156.349 L217.662 156.349 L217.662 160.284 L203.588 160.284 L203.588 168.756 Q204.607 168.409 205.625 168.247 Q206.644 168.062 207.662 168.062 Q213.449 168.062 216.829 171.233 Q220.209 174.405 220.209 179.821 Q220.209 185.4 216.736 188.502 Q213.264 191.58 206.945 191.58 Q204.769 191.58 202.5 191.21 Q200.255 190.84 197.848 190.099 L197.848 185.4 Q199.931 186.534 202.153 187.09 Q204.375 187.645 206.852 187.645 Q210.857 187.645 213.195 185.539 Q215.533 183.432 215.533 179.821 Q215.533 176.21 213.195 174.104 Q210.857 171.997 206.852 171.997 Q204.977 171.997 203.102 172.414 Q201.25 172.83 199.306 173.71 L199.306 156.349 Z\" fill=\"#000000\" fill-rule=\"nonzero\" fill-opacity=\"1\" /><path clip-path=\"url(#clip430)\" d=\"M239.422 159.428 Q235.81 159.428 233.982 162.993 Q232.176 166.534 232.176 173.664 Q232.176 180.77 233.982 184.335 Q235.81 187.877 239.422 187.877 Q243.056 187.877 244.861 184.335 Q246.69 180.77 246.69 173.664 Q246.69 166.534 244.861 162.993 Q243.056 159.428 239.422 159.428 M239.422 155.724 Q245.232 155.724 248.287 160.331 Q251.366 164.914 251.366 173.664 Q251.366 182.391 248.287 186.997 Q245.232 191.58 239.422 191.58 Q233.611 191.58 230.533 186.997 Q227.477 182.391 227.477 173.664 Q227.477 164.914 230.533 160.331 Q233.611 155.724 239.422 155.724 Z\" fill=\"#000000\" fill-rule=\"nonzero\" fill-opacity=\"1\" /><path clip-path=\"url(#clip430)\" d=\"M66.0841 861.233 L64.0551 861.233 L64.0551 859.494 Q64.0551 855.79 63.4754 854.953 Q62.8635 854.084 60.9312 854.084 L26.181 854.084 Q24.2809 854.084 23.7012 854.953 Q23.0893 855.823 23.0893 859.494 L23.0893 861.233 L21.0281 861.233 Q21.2213 858.914 21.2213 851.121 Q21.2213 843.391 21.0281 841.105 L23.0893 841.105 L23.0893 842.811 Q23.0893 846.515 23.7012 847.385 Q24.2809 848.222 26.181 848.222 L60.9312 848.222 Q62.8313 848.222 63.4432 847.385 Q64.0551 846.515 64.0551 842.811 L64.0551 841.105 L66.0841 841.105 Q65.8909 843.423 65.8909 851.185 Q65.8909 858.914 66.0841 861.233 Z\" fill=\"#000000\" fill-rule=\"nonzero\" fill-opacity=\"1\" /><path clip-path=\"url(#clip430)\" d=\"M66.0841 832.38 L64.0551 832.38 Q64.0551 828.87 63.6364 828.065 Q63.1856 827.26 61.06 827.26 L43.379 827.26 Q40.9313 827.26 40.3194 828.129 Q39.7075 828.966 39.7075 832.38 L37.6463 832.38 L36.9378 823.105 L43.8621 823.105 Q36.9378 820.013 36.9378 813.347 Q36.9378 805.617 43.379 804.554 Q40.8669 803.427 38.9023 801.076 Q36.9378 798.693 36.9378 794.989 Q36.9378 790.03 39.3854 788.065 Q41.0279 786.616 42.8637 786.326 Q44.6994 786.036 49.4659 786.036 L62.0584 786.036 Q63.4432 785.972 63.7653 784.909 Q64.0551 783.846 64.0551 780.883 L66.0841 780.883 Q65.8909 787.614 65.8909 788.258 Q65.8909 788.774 66.0841 795.73 L64.0551 795.73 Q64.0551 792.22 63.6364 791.414 Q63.1856 790.577 61.06 790.577 L45.6978 790.577 Q42.3484 790.577 40.3838 791.608 Q38.3871 792.638 38.3871 795.472 Q38.3871 798.886 41.2534 801.624 Q44.1197 804.361 48.9506 804.361 L61.06 804.361 Q63.1856 804.361 63.6364 803.556 Q64.0551 802.719 64.0551 799.208 L66.0841 799.208 Q65.8909 805.939 65.8909 806.616 Q65.8909 807.131 66.0841 814.055 L64.0551 814.055 Q64.0551 810.545 63.6364 809.74 Q63.1856 808.902 61.06 808.902 L45.6978 808.902 Q42.3484 808.902 40.3838 809.933 Q38.3871 810.963 38.3871 813.797 Q38.3871 817.211 41.2534 819.949 Q44.1197 822.686 48.9506 822.686 L61.06 822.686 Q63.1856 822.686 63.6364 821.881 Q64.0551 821.044 64.0551 817.566 L66.0841 817.566 Q65.8909 824.297 65.8909 824.941 Q65.8909 825.456 66.0841 832.38 Z\" fill=\"#000000\" fill-rule=\"nonzero\" fill-opacity=\"1\" /><path clip-path=\"url(#clip430)\" d=\"M20.2552 731.166 L37.0666 735.321 Q38.1294 735.61 38.2582 735.804 Q38.3871 735.965 38.3871 736.48 Q38.3871 737.478 37.7107 737.478 Q37.6463 737.478 36.809 737.382 Q35.9394 737.285 34.3613 737.285 Q28.5321 737.285 25.086 740.119 Q21.64 742.921 21.64 747.913 Q21.64 752.583 24.0877 757.06 Q26.5353 761.536 30.1424 764.402 Q33.1053 766.818 36.7123 768.493 Q40.3194 770.135 43.4756 770.811 Q46.5995 771.488 48.4997 771.745 Q50.3998 771.971 51.6237 771.971 Q55.2307 771.971 58.0326 770.811 Q60.8023 769.652 62.3804 767.72 Q63.9585 765.755 64.7314 763.501 Q65.5044 761.214 65.5044 758.734 Q65.5044 757.8 65.3756 756.673 Q65.2467 755.546 64.7637 753.807 Q64.2806 752.035 63.4754 750.586 Q62.6703 749.105 61.1244 747.816 Q59.5785 746.496 57.5173 745.981 Q52.2678 744.596 51.4948 744.596 Q50.8507 744.596 50.6253 744.982 Q50.3998 745.369 50.2388 746.657 L50.11 750.135 Q50.11 750.2 50.11 750.296 Q50.11 750.908 50.11 751.166 Q50.0778 751.423 50.0134 751.713 Q49.949 751.971 49.8201 752.068 Q49.6591 752.132 49.4015 752.132 Q48.7895 752.132 48.4997 751.874 Q48.1776 751.617 48.1454 751.391 Q48.081 751.166 48.081 750.747 L48.2743 741.504 Q48.2743 740.763 48.1776 738.058 Q48.081 735.353 48.081 734.58 Q48.081 733.71 48.7895 733.71 Q50.11 733.71 50.11 734.773 Q50.1422 735.836 50.1744 736.383 Q50.1744 736.931 50.3354 737.478 Q50.4965 737.994 50.6253 738.187 Q50.7219 738.38 51.205 738.638 Q51.6559 738.895 52.0423 738.992 Q52.3966 739.089 53.2984 739.314 Q53.8781 739.443 54.9731 739.765 Q56.0681 740.055 56.6478 740.184 L61.7363 741.44 Q65.5044 742.309 65.762 742.567 Q66.0197 742.696 66.0197 743.018 Q66.0197 743.501 64.6026 744.531 Q63.1856 745.53 61.9295 745.981 Q62.7991 746.786 63.3144 747.301 Q63.7975 747.816 64.5704 749.008 Q65.3434 750.167 65.9553 751.713 Q67.5334 755.481 67.5334 759.958 Q67.5334 767.945 62.477 772.969 Q57.3885 777.993 49.4659 777.993 Q43.8621 777.993 38.3548 775.417 Q32.8476 772.84 28.7575 768.75 Q24.6674 764.66 22.1231 759.25 Q19.5788 753.839 19.5788 748.428 Q19.5788 746.367 20.1263 744.531 Q20.6738 742.696 21.3502 741.601 Q22.0265 740.473 23.0249 739.475 Q23.991 738.477 24.4419 738.155 Q24.8928 737.8 25.4403 737.478 L20.384 732.873 Q19.5788 732.068 19.5788 731.875 Q19.5788 731.488 19.8043 731.327 Q20.0297 731.166 20.2552 731.166 Z\" fill=\"#000000\" fill-rule=\"nonzero\" fill-opacity=\"1\" /><path clip-path=\"url(#clip430)\" d=\"M49.5947 723.237 Q38.4515 723.237 29.466 719.082 Q25.6979 717.311 22.5418 714.831 Q19.3856 712.351 18.0007 710.709 Q16.6159 709.066 16.6159 708.615 Q16.6159 707.971 17.26 707.939 Q17.5821 707.939 18.3872 708.808 Q29.2084 719.436 49.5947 719.404 Q70.0454 719.404 80.4479 709.066 Q81.5751 707.939 81.9294 707.939 Q82.5735 707.939 82.5735 708.615 Q82.5735 709.066 81.2531 710.644 Q79.9326 712.222 76.9053 714.67 Q73.8779 717.118 70.1742 718.889 Q61.1888 723.237 49.5947 723.237 Z\" fill=\"#000000\" fill-rule=\"nonzero\" fill-opacity=\"1\" /><path clip-path=\"url(#clip430)\" d=\"M24.8606 686.346 Q26.2777 686.346 27.3404 687.505 Q28.371 688.632 28.371 689.856 Q28.371 690.983 27.6947 691.692 Q26.9862 692.368 25.9878 692.368 Q24.6674 692.368 23.5724 691.241 Q22.4774 690.114 22.4774 688.793 Q22.4774 687.698 23.1537 687.022 Q23.83 686.346 24.8606 686.346 M56.6478 685.766 Q56.9054 685.766 57.936 686.056 Q58.9344 686.346 60.4803 687.054 Q61.994 687.73 63.411 688.664 Q64.8281 689.598 65.8264 691.144 Q66.8248 692.658 66.8248 694.397 Q66.8248 696.748 65.2789 698.294 Q63.7331 699.808 61.4142 699.808 Q60.1582 699.808 56.1325 698.294 Q44.4096 693.914 43.9265 693.753 Q42.0907 693.012 40.4804 693.012 Q39.7397 693.012 39.2888 693.173 Q38.8057 693.334 38.6447 693.656 Q38.4515 693.978 38.4193 694.172 Q38.3871 694.333 38.3871 694.655 Q38.3871 696.555 40.3194 698.326 Q42.2518 700.097 46.5673 701.321 Q47.3725 701.579 47.5657 701.74 Q47.759 701.901 47.759 702.384 Q47.7268 703.189 47.0826 703.189 Q46.8894 703.189 46.1487 702.964 Q45.3757 702.738 44.2163 702.32 Q43.0247 701.901 41.8009 701.16 Q40.5448 700.42 39.4498 699.518 Q38.3548 698.584 37.6463 697.263 Q36.9378 695.943 36.9378 694.461 Q36.9378 692.046 38.5159 690.565 Q40.0618 689.051 42.3484 689.051 Q43.6044 689.051 45.8266 689.92 Q48.7251 690.983 49.6591 691.37 L56.5834 693.946 Q59.0954 694.88 59.8684 695.17 Q60.6091 695.428 61.5109 695.653 Q62.3804 695.846 63.1856 695.846 Q64.3128 695.846 64.8281 695.492 Q65.3434 695.106 65.3434 694.268 Q65.3434 691.949 63.0567 690.242 Q60.7379 688.536 57.1953 687.537 Q57.0987 687.505 56.9376 687.473 Q56.1325 687.215 56.0359 686.957 Q56.0037 686.829 56.0037 686.571 Q56.0037 685.766 56.6478 685.766 Z\" fill=\"#000000\" fill-rule=\"nonzero\" fill-opacity=\"1\" /><path clip-path=\"url(#clip430)\" d=\"M41.5432 642.492 Q44.5384 642.492 50.3354 644.005 Q52.8475 644.617 55.1341 645.455 Q57.3885 646.26 59.5785 647.452 Q61.7685 648.643 63.3466 650.028 Q64.8925 651.413 65.8587 653.216 Q66.8248 655.02 66.8248 657.017 Q66.8248 660.173 64.9569 662.041 Q63.0567 663.876 59.804 664.456 Q66.8248 668.772 66.8248 674.537 Q66.8248 678.111 64.2806 679.786 Q61.7041 681.461 57.3885 681.461 Q53.7493 681.461 49.9812 680.495 Q42.8315 678.659 37.8396 675.084 Q37.2598 674.601 37.2598 673.893 Q37.2598 673.474 37.3887 673.281 Q37.7429 672.701 38.3226 672.701 Q38.7413 672.701 39.16 673.023 Q42.284 675.277 44.957 676.759 Q47.6301 678.24 50.3354 678.917 Q52.6543 679.432 54.6188 679.432 Q57.936 679.432 59.9972 678.015 Q62.0584 676.566 62.0584 673.699 Q62.0584 671.058 60.4159 668.74 Q58.7412 666.421 55.9392 664.714 Q52.8797 664.617 49.9812 663.876 Q46.8894 663.2 46.8894 661.622 Q46.8894 660.366 48.5963 660.366 Q49.176 660.366 50.3354 660.624 Q53.395 661.332 56.1325 662.62 Q58.8056 662.17 60.4481 660.495 Q62.0584 658.82 62.0584 656.147 Q62.0584 653.667 60.2548 651.477 Q58.4513 649.255 55.8104 647.838 Q53.1373 646.389 49.9812 645.584 Q48.9184 645.326 47.5657 645.326 Q43.9587 645.326 41.7365 647.838 Q41.0279 648.547 40.094 648.547 Q38.999 648.547 38.0006 647.645 Q36.9378 646.582 36.9378 645.326 Q36.9378 644.392 37.5175 643.812 Q38.6769 642.492 41.5432 642.492 Z\" fill=\"#000000\" fill-rule=\"nonzero\" fill-opacity=\"1\" /><path clip-path=\"url(#clip430)\" d=\"M81.9294 634.518 Q81.6073 634.518 80.8022 633.681 Q69.981 623.053 49.5947 623.053 Q29.144 623.053 18.8059 633.262 Q17.6143 634.518 17.26 634.518 Q16.6159 634.518 16.6159 633.874 Q16.6159 633.423 17.9363 631.845 Q19.2568 630.235 22.2841 627.819 Q25.3115 625.372 29.0151 623.568 Q38.0006 619.22 49.5947 619.22 Q60.7379 619.22 69.7234 623.375 Q73.4914 625.146 76.6476 627.626 Q79.8038 630.106 81.1886 631.748 Q82.5735 633.391 82.5735 633.874 Q82.5735 634.518 81.9294 634.518 Z\" fill=\"#000000\" fill-rule=\"nonzero\" fill-opacity=\"1\" /><circle clip-path=\"url(#clip432)\" cx=\"345.82\" cy=\"650.371\" r=\"14.4\" fill=\"#009af9\" fill-rule=\"evenodd\" fill-opacity=\"1\" stroke=\"#000000\" stroke-opacity=\"1\" stroke-width=\"3.2\"/>\n",
       "<circle clip-path=\"url(#clip432)\" cx=\"393.344\" cy=\"646.263\" r=\"14.4\" fill=\"#009af9\" fill-rule=\"evenodd\" fill-opacity=\"1\" stroke=\"#000000\" stroke-opacity=\"1\" stroke-width=\"3.2\"/>\n",
       "<circle clip-path=\"url(#clip432)\" cx=\"440.868\" cy=\"641.749\" r=\"14.4\" fill=\"#009af9\" fill-rule=\"evenodd\" fill-opacity=\"1\" stroke=\"#000000\" stroke-opacity=\"1\" stroke-width=\"3.2\"/>\n",
       "<circle clip-path=\"url(#clip432)\" cx=\"488.392\" cy=\"636.769\" r=\"14.4\" fill=\"#009af9\" fill-rule=\"evenodd\" fill-opacity=\"1\" stroke=\"#000000\" stroke-opacity=\"1\" stroke-width=\"3.2\"/>\n",
       "<circle clip-path=\"url(#clip432)\" cx=\"535.916\" cy=\"631.249\" r=\"14.4\" fill=\"#009af9\" fill-rule=\"evenodd\" fill-opacity=\"1\" stroke=\"#000000\" stroke-opacity=\"1\" stroke-width=\"3.2\"/>\n",
       "<circle clip-path=\"url(#clip432)\" cx=\"583.44\" cy=\"625.1\" r=\"14.4\" fill=\"#009af9\" fill-rule=\"evenodd\" fill-opacity=\"1\" stroke=\"#000000\" stroke-opacity=\"1\" stroke-width=\"3.2\"/>\n",
       "<circle clip-path=\"url(#clip432)\" cx=\"630.964\" cy=\"618.213\" r=\"14.4\" fill=\"#009af9\" fill-rule=\"evenodd\" fill-opacity=\"1\" stroke=\"#000000\" stroke-opacity=\"1\" stroke-width=\"3.2\"/>\n",
       "<circle clip-path=\"url(#clip432)\" cx=\"678.488\" cy=\"610.454\" r=\"14.4\" fill=\"#009af9\" fill-rule=\"evenodd\" fill-opacity=\"1\" stroke=\"#000000\" stroke-opacity=\"1\" stroke-width=\"3.2\"/>\n",
       "<circle clip-path=\"url(#clip432)\" cx=\"726.012\" cy=\"601.658\" r=\"14.4\" fill=\"#009af9\" fill-rule=\"evenodd\" fill-opacity=\"1\" stroke=\"#000000\" stroke-opacity=\"1\" stroke-width=\"3.2\"/>\n",
       "<circle clip-path=\"url(#clip432)\" cx=\"773.536\" cy=\"591.616\" r=\"14.4\" fill=\"#009af9\" fill-rule=\"evenodd\" fill-opacity=\"1\" stroke=\"#000000\" stroke-opacity=\"1\" stroke-width=\"3.2\"/>\n",
       "<circle clip-path=\"url(#clip432)\" cx=\"821.06\" cy=\"580.065\" r=\"14.4\" fill=\"#009af9\" fill-rule=\"evenodd\" fill-opacity=\"1\" stroke=\"#000000\" stroke-opacity=\"1\" stroke-width=\"3.2\"/>\n",
       "<circle clip-path=\"url(#clip432)\" cx=\"868.584\" cy=\"566.672\" r=\"14.4\" fill=\"#009af9\" fill-rule=\"evenodd\" fill-opacity=\"1\" stroke=\"#000000\" stroke-opacity=\"1\" stroke-width=\"3.2\"/>\n",
       "<circle clip-path=\"url(#clip432)\" cx=\"916.107\" cy=\"551.006\" r=\"14.4\" fill=\"#009af9\" fill-rule=\"evenodd\" fill-opacity=\"1\" stroke=\"#000000\" stroke-opacity=\"1\" stroke-width=\"3.2\"/>\n",
       "<circle clip-path=\"url(#clip432)\" cx=\"963.631\" cy=\"532.509\" r=\"14.4\" fill=\"#009af9\" fill-rule=\"evenodd\" fill-opacity=\"1\" stroke=\"#000000\" stroke-opacity=\"1\" stroke-width=\"3.2\"/>\n",
       "<circle clip-path=\"url(#clip432)\" cx=\"1011.16\" cy=\"510.437\" r=\"14.4\" fill=\"#009af9\" fill-rule=\"evenodd\" fill-opacity=\"1\" stroke=\"#000000\" stroke-opacity=\"1\" stroke-width=\"3.2\"/>\n",
       "<circle clip-path=\"url(#clip432)\" cx=\"1058.68\" cy=\"483.739\" r=\"14.4\" fill=\"#009af9\" fill-rule=\"evenodd\" fill-opacity=\"1\" stroke=\"#000000\" stroke-opacity=\"1\" stroke-width=\"3.2\"/>\n",
       "<circle clip-path=\"url(#clip432)\" cx=\"1106.2\" cy=\"450.728\" r=\"14.4\" fill=\"#009af9\" fill-rule=\"evenodd\" fill-opacity=\"1\" stroke=\"#000000\" stroke-opacity=\"1\" stroke-width=\"3.2\"/>\n",
       "<circle clip-path=\"url(#clip432)\" cx=\"1153.73\" cy=\"407.885\" r=\"14.4\" fill=\"#009af9\" fill-rule=\"evenodd\" fill-opacity=\"1\" stroke=\"#000000\" stroke-opacity=\"1\" stroke-width=\"3.2\"/>\n",
       "<circle clip-path=\"url(#clip432)\" cx=\"1201.25\" cy=\"345.245\" r=\"14.4\" fill=\"#009af9\" fill-rule=\"evenodd\" fill-opacity=\"1\" stroke=\"#000000\" stroke-opacity=\"1\" stroke-width=\"3.2\"/>\n",
       "<circle clip-path=\"url(#clip432)\" cx=\"1248.78\" cy=\"229.701\" r=\"14.4\" fill=\"#009af9\" fill-rule=\"evenodd\" fill-opacity=\"1\" stroke=\"#000000\" stroke-opacity=\"1\" stroke-width=\"3.2\"/>\n",
       "<circle clip-path=\"url(#clip432)\" cx=\"1296.3\" cy=\"86.1857\" r=\"14.4\" fill=\"#009af9\" fill-rule=\"evenodd\" fill-opacity=\"1\" stroke=\"#000000\" stroke-opacity=\"1\" stroke-width=\"3.2\"/>\n",
       "<circle clip-path=\"url(#clip432)\" cx=\"1343.82\" cy=\"1384.24\" r=\"14.4\" fill=\"#009af9\" fill-rule=\"evenodd\" fill-opacity=\"1\" stroke=\"#000000\" stroke-opacity=\"1\" stroke-width=\"3.2\"/>\n",
       "<circle clip-path=\"url(#clip432)\" cx=\"1391.35\" cy=\"1240.72\" r=\"14.4\" fill=\"#009af9\" fill-rule=\"evenodd\" fill-opacity=\"1\" stroke=\"#000000\" stroke-opacity=\"1\" stroke-width=\"3.2\"/>\n",
       "<circle clip-path=\"url(#clip432)\" cx=\"1438.87\" cy=\"1125.18\" r=\"14.4\" fill=\"#009af9\" fill-rule=\"evenodd\" fill-opacity=\"1\" stroke=\"#000000\" stroke-opacity=\"1\" stroke-width=\"3.2\"/>\n",
       "<circle clip-path=\"url(#clip432)\" cx=\"1486.39\" cy=\"1062.54\" r=\"14.4\" fill=\"#009af9\" fill-rule=\"evenodd\" fill-opacity=\"1\" stroke=\"#000000\" stroke-opacity=\"1\" stroke-width=\"3.2\"/>\n",
       "<circle clip-path=\"url(#clip432)\" cx=\"1533.92\" cy=\"1019.7\" r=\"14.4\" fill=\"#009af9\" fill-rule=\"evenodd\" fill-opacity=\"1\" stroke=\"#000000\" stroke-opacity=\"1\" stroke-width=\"3.2\"/>\n",
       "<circle clip-path=\"url(#clip432)\" cx=\"1581.44\" cy=\"986.685\" r=\"14.4\" fill=\"#009af9\" fill-rule=\"evenodd\" fill-opacity=\"1\" stroke=\"#000000\" stroke-opacity=\"1\" stroke-width=\"3.2\"/>\n",
       "<circle clip-path=\"url(#clip432)\" cx=\"1628.97\" cy=\"959.987\" r=\"14.4\" fill=\"#009af9\" fill-rule=\"evenodd\" fill-opacity=\"1\" stroke=\"#000000\" stroke-opacity=\"1\" stroke-width=\"3.2\"/>\n",
       "<circle clip-path=\"url(#clip432)\" cx=\"1676.49\" cy=\"937.915\" r=\"14.4\" fill=\"#009af9\" fill-rule=\"evenodd\" fill-opacity=\"1\" stroke=\"#000000\" stroke-opacity=\"1\" stroke-width=\"3.2\"/>\n",
       "<circle clip-path=\"url(#clip432)\" cx=\"1724.01\" cy=\"919.418\" r=\"14.4\" fill=\"#009af9\" fill-rule=\"evenodd\" fill-opacity=\"1\" stroke=\"#000000\" stroke-opacity=\"1\" stroke-width=\"3.2\"/>\n",
       "<circle clip-path=\"url(#clip432)\" cx=\"1771.54\" cy=\"903.752\" r=\"14.4\" fill=\"#009af9\" fill-rule=\"evenodd\" fill-opacity=\"1\" stroke=\"#000000\" stroke-opacity=\"1\" stroke-width=\"3.2\"/>\n",
       "<circle clip-path=\"url(#clip432)\" cx=\"1819.06\" cy=\"890.359\" r=\"14.4\" fill=\"#009af9\" fill-rule=\"evenodd\" fill-opacity=\"1\" stroke=\"#000000\" stroke-opacity=\"1\" stroke-width=\"3.2\"/>\n",
       "<circle clip-path=\"url(#clip432)\" cx=\"1866.59\" cy=\"878.808\" r=\"14.4\" fill=\"#009af9\" fill-rule=\"evenodd\" fill-opacity=\"1\" stroke=\"#000000\" stroke-opacity=\"1\" stroke-width=\"3.2\"/>\n",
       "<circle clip-path=\"url(#clip432)\" cx=\"1914.11\" cy=\"868.766\" r=\"14.4\" fill=\"#009af9\" fill-rule=\"evenodd\" fill-opacity=\"1\" stroke=\"#000000\" stroke-opacity=\"1\" stroke-width=\"3.2\"/>\n",
       "<circle clip-path=\"url(#clip432)\" cx=\"1961.63\" cy=\"859.969\" r=\"14.4\" fill=\"#009af9\" fill-rule=\"evenodd\" fill-opacity=\"1\" stroke=\"#000000\" stroke-opacity=\"1\" stroke-width=\"3.2\"/>\n",
       "<circle clip-path=\"url(#clip432)\" cx=\"2009.16\" cy=\"852.211\" r=\"14.4\" fill=\"#009af9\" fill-rule=\"evenodd\" fill-opacity=\"1\" stroke=\"#000000\" stroke-opacity=\"1\" stroke-width=\"3.2\"/>\n",
       "<circle clip-path=\"url(#clip432)\" cx=\"2056.68\" cy=\"845.324\" r=\"14.4\" fill=\"#009af9\" fill-rule=\"evenodd\" fill-opacity=\"1\" stroke=\"#000000\" stroke-opacity=\"1\" stroke-width=\"3.2\"/>\n",
       "<circle clip-path=\"url(#clip432)\" cx=\"2104.21\" cy=\"839.175\" r=\"14.4\" fill=\"#009af9\" fill-rule=\"evenodd\" fill-opacity=\"1\" stroke=\"#000000\" stroke-opacity=\"1\" stroke-width=\"3.2\"/>\n",
       "<circle clip-path=\"url(#clip432)\" cx=\"2151.73\" cy=\"833.655\" r=\"14.4\" fill=\"#009af9\" fill-rule=\"evenodd\" fill-opacity=\"1\" stroke=\"#000000\" stroke-opacity=\"1\" stroke-width=\"3.2\"/>\n",
       "<circle clip-path=\"url(#clip432)\" cx=\"2199.25\" cy=\"828.675\" r=\"14.4\" fill=\"#009af9\" fill-rule=\"evenodd\" fill-opacity=\"1\" stroke=\"#000000\" stroke-opacity=\"1\" stroke-width=\"3.2\"/>\n",
       "<circle clip-path=\"url(#clip432)\" cx=\"2246.78\" cy=\"824.161\" r=\"14.4\" fill=\"#009af9\" fill-rule=\"evenodd\" fill-opacity=\"1\" stroke=\"#000000\" stroke-opacity=\"1\" stroke-width=\"3.2\"/>\n",
       "<circle clip-path=\"url(#clip432)\" cx=\"2294.3\" cy=\"820.053\" r=\"14.4\" fill=\"#009af9\" fill-rule=\"evenodd\" fill-opacity=\"1\" stroke=\"#000000\" stroke-opacity=\"1\" stroke-width=\"3.2\"/>\n",
       "<path clip-path=\"url(#clip430)\" d=\"M2024.94 196.789 L2283.91 196.789 L2283.91 93.1086 L2024.94 93.1086  Z\" fill=\"#ffffff\" fill-rule=\"evenodd\" fill-opacity=\"1\"/>\n",
       "<polyline clip-path=\"url(#clip430)\" style=\"stroke:#000000; stroke-linecap:round; stroke-linejoin:round; stroke-width:4; stroke-opacity:1; fill:none\" points=\"2024.94,196.789 2283.91,196.789 2283.91,93.1086 2024.94,93.1086 2024.94,196.789 \"/>\n",
       "<circle clip-path=\"url(#clip430)\" cx=\"2116.74\" cy=\"144.949\" r=\"20.48\" fill=\"#009af9\" fill-rule=\"evenodd\" fill-opacity=\"1\" stroke=\"#000000\" stroke-opacity=\"1\" stroke-width=\"4.55111\"/>\n",
       "<path clip-path=\"url(#clip430)\" d=\"M2222.37 164.636 Q2220.57 169.266 2218.85 170.678 Q2217.14 172.09 2214.27 172.09 L2210.87 172.09 L2210.87 168.525 L2213.37 168.525 Q2215.13 168.525 2216.1 167.692 Q2217.07 166.858 2218.25 163.756 L2219.02 161.812 L2208.53 136.303 L2213.04 136.303 L2221.15 156.581 L2229.25 136.303 L2233.76 136.303 L2222.37 164.636 Z\" fill=\"#000000\" fill-rule=\"nonzero\" fill-opacity=\"1\" /><path clip-path=\"url(#clip430)\" d=\"M2241.05 158.293 L2248.69 158.293 L2248.69 131.928 L2240.38 133.595 L2240.38 129.335 L2248.65 127.669 L2253.32 127.669 L2253.32 158.293 L2260.96 158.293 L2260.96 162.229 L2241.05 162.229 L2241.05 158.293 Z\" fill=\"#000000\" fill-rule=\"nonzero\" fill-opacity=\"1\" /></svg>\n"
      ]
     },
     "execution_count": 12,
     "metadata": {},
     "output_type": "execute_result"
    }
   ],
   "source": [
    "#import Pkg\n",
    "#Pkg.add(\"Plots\")\n",
    "using Plots\n",
    "\n",
    "A = -c[1, 1]\n",
    "B = c[1, 1]'\n",
    "\n",
    "wn = FermionicFreq(-41):FermionicFreq(41)\n",
    "w = SparseIR.value.(wn, beta);\n",
    "\n",
    "giw = full_freq((A, B), wn, ham_eb, beta)\n",
    "\n",
    "Plots.scatter(w, imag.(giw), xlabel=L\"\\omega\", ylabel=L\"\\mathrm{Im} G(i\\omega)\")"
   ]
  },
  {
   "cell_type": "code",
   "execution_count": 13,
   "metadata": {},
   "outputs": [
    {
     "name": "stderr",
     "output_type": "stream",
     "text": [
      "\u001b[32m\u001b[1m   Resolving\u001b[22m\u001b[39m package versions...\n",
      "\u001b[32m\u001b[1m  No Changes\u001b[22m\u001b[39m to `C:\\Users\\Markus\\.julia\\environments\\v1.7\\Project.toml`\n",
      "\u001b[32m\u001b[1m  No Changes\u001b[22m\u001b[39m to `C:\\Users\\Markus\\.julia\\environments\\v1.7\\Manifest.toml`\n",
      "\u001b[32m\u001b[1m   Resolving\u001b[22m\u001b[39m package versions...\n",
      "\u001b[32m\u001b[1m  No Changes\u001b[22m\u001b[39m to `C:\\Users\\Markus\\.julia\\environments\\v1.7\\Project.toml`\n",
      "\u001b[32m\u001b[1m  No Changes\u001b[22m\u001b[39m to `C:\\Users\\Markus\\.julia\\environments\\v1.7\\Manifest.toml`\n"
     ]
    },
    {
     "ename": "LoadError",
     "evalue": "ArgumentError: \"data.csv\" is not a valid file or doesn't exist",
     "output_type": "error",
     "traceback": [
      "ArgumentError: \"data.csv\" is not a valid file or doesn't exist",
      "",
      "Stacktrace:",
      " [1] CSV.Context(source::CSV.Arg, header::CSV.Arg, normalizenames::CSV.Arg, datarow::CSV.Arg, skipto::CSV.Arg, footerskip::CSV.Arg, transpose::CSV.Arg, comment::CSV.Arg, ignoreemptyrows::CSV.Arg, ignoreemptylines::CSV.Arg, select::CSV.Arg, drop::CSV.Arg, limit::CSV.Arg, buffer_in_memory::CSV.Arg, threaded::CSV.Arg, ntasks::CSV.Arg, tasks::CSV.Arg, rows_to_check::CSV.Arg, lines_to_check::CSV.Arg, missingstrings::CSV.Arg, missingstring::CSV.Arg, delim::CSV.Arg, ignorerepeated::CSV.Arg, quoted::CSV.Arg, quotechar::CSV.Arg, openquotechar::CSV.Arg, closequotechar::CSV.Arg, escapechar::CSV.Arg, dateformat::CSV.Arg, dateformats::CSV.Arg, decimal::CSV.Arg, groupmark::CSV.Arg, truestrings::CSV.Arg, falsestrings::CSV.Arg, stripwhitespace::CSV.Arg, type::CSV.Arg, types::CSV.Arg, typemap::CSV.Arg, pool::CSV.Arg, downcast::CSV.Arg, lazystrings::CSV.Arg, stringtype::CSV.Arg, strict::CSV.Arg, silencewarnings::CSV.Arg, maxwarnings::CSV.Arg, debug::CSV.Arg, parsingdebug::CSV.Arg, validate::CSV.Arg, streaming::CSV.Arg)",
      "   @ CSV C:\\Users\\Markus\\.julia\\packages\\CSV\\OnldF\\src\\context.jl:314",
      " [2] #File#32",
      "   @ C:\\Users\\Markus\\.julia\\packages\\CSV\\OnldF\\src\\file.jl:222 [inlined]",
      " [3] read(source::String, sink::Type; copycols::Bool, kwargs::Base.Pairs{Symbol, Any, Tuple{Symbol, Symbol, Symbol}, NamedTuple{(:delim, :ignorerepeated, :header), Tuple{String, Bool, Bool}}})",
      "   @ CSV C:\\Users\\Markus\\.julia\\packages\\CSV\\OnldF\\src\\CSV.jl:117",
      " [4] top-level scope",
      "   @ In[13]:7"
     ]
    }
   ],
   "source": [
    "#import Pkg\n",
    "Pkg.add(\"CSV\")\n",
    "Pkg.add(\"DataFrames\")\n",
    "using CSV\n",
    "using DataFrames\n",
    "\n",
    "data = CSV.read(\"data.csv\", DataFrame, delim=\" \",ignorerepeated=true, header=false) "
   ]
  },
  {
   "cell_type": "code",
   "execution_count": 14,
   "metadata": {},
   "outputs": [
    {
     "ename": "LoadError",
     "evalue": "UndefVarError: data not defined",
     "output_type": "error",
     "traceback": [
      "UndefVarError: data not defined",
      "",
      "Stacktrace:",
      " [1] top-level scope",
      "   @ In[14]:1"
     ]
    }
   ],
   "source": [
    "giw_origin_im = data[!,7]\n",
    "#giw_origin_re = data[!,6]\n",
    "w_origin = data[!,5]\n",
    "plt=Plots.scatter(w_origin, giw_origin_im, xlabel=L\"\\omega\", ylabel=L\"\\mathrm{Im} G(i\\omega)\")\n",
    "#plt=Plots.scatter(w_origin, giw_origin_re, xlabel=L\"\\omega\", ylabel=L\"\\mathrm{Re} G(i\\omega)\")\n",
    "Plots.scatter!(plt,w, imag.(giw), xlabel=L\"\\omega\", ylabel=L\"\\mathrm{Im} G(i\\omega)\")"
   ]
  },
  {
   "cell_type": "markdown",
   "metadata": {},
   "source": [
    "Multi-point Green's function\n",
    "----------------------------\n",
    "\n",
    "To compute Greens functions of the form:\n",
    "$$\n",
    "    G_{ABC}(\\tau') = \\langle T A(\\tau) B(\\tau') C(0) \\rangle\n",
    "$$\n",
    "from the Lehmann representation, we can use the same function,\n",
    "but we need to specify three operators and a list of tuples\n",
    "$(\\tau,\\tau')$."
   ]
  },
  {
   "cell_type": "code",
   "execution_count": 15,
   "metadata": {},
   "outputs": [
    {
     "data": {
      "text/plain": [
       "cutOffResonanceGR (generic function with 1 method)"
      ]
     },
     "execution_count": 15,
     "metadata": {},
     "output_type": "execute_result"
    }
   ],
   "source": [
    "# split the area into two simplices\n",
    "\n",
    "using SimplexQuad\n",
    "\n",
    "function G_ABC_gl_part_simplex_array(A, B, C, H, β, space, ω1, ω2, τ_arr1, τ_arr2, weights, ham_eb)\n",
    "    \n",
    "    f_vector = Array{typeof(zero(ComplexF64)), 1}(undef,length(τ_arr1))\n",
    "    \n",
    "    for f in 1:length(f_vector) \n",
    "        f_vector[f] = 0\n",
    "    end\n",
    "    \n",
    "    tautau = []\n",
    "    for f in 1:length(f_vector)\n",
    "        τ_1= τ_arr1[f]\n",
    "        τ_2= τ_arr2[f]\n",
    "        #tautau = collect(Iterators.product( τ_1*β,τ_2*β))\n",
    "        push!(tautau, (τ_1*β,τ_2*β))\n",
    "    end\n",
    "    \n",
    "    matrix2 = full_tau((A,B,C), tautau, ham_eb, β) \n",
    "    \n",
    "    for f in 1:length(f_vector) \n",
    "        τ_1= τ_arr1[f]\n",
    "        τ_2= τ_arr2[f]\n",
    "\n",
    "        f_vector[f] = ℯ.^(im*ω1*τ_1*β)* matrix2[f] * ℯ.^(im*ω2*τ_2*β)\n",
    "    end\n",
    "    \n",
    "    return dot(weights*β*β,f_vector)  \n",
    "end\n",
    "\n",
    "function G_ABC_gl_transform_simplex(A, B, C, H, β, space, n_max1, n_max2, npoints)\n",
    "    n1 = collect(-n_max1:1:n_max1)\n",
    "    ω1 = (2n1.+0)*π/β\n",
    "    \n",
    "    n2 = collect(-n_max2:1:n_max2)\n",
    "    ω2 = (2n2.+0)*π/β\n",
    "    \n",
    "    #X, W = simplexquad(50, 2)\n",
    "    X, W = simplexquad(npoints, 2)\n",
    "    Y=1 .-X\n",
    "    \n",
    "    \n",
    "    quantum_numbers = NSzSet(space)\n",
    "    ham_eb = Fermions.Propagators.HamiltonianEigen(H, quantum_numbers, β)\n",
    "    \n",
    "    result = Array{typeof(zero(ComplexF64)), 2}(undef,length(ω1),length(ω2)) \n",
    "    for j in 1:length(ω1)\n",
    "        for k in 1:length(ω2)    \n",
    "\n",
    "            values1 = G_ABC_gl_part_simplex_array(A, B, C, H, β, space, ω1[j], ω2[k], 1 .-X[:,1],X[:,2],W, ham_eb)\n",
    "            values2 = G_ABC_gl_part_simplex_array(A, B, C, H, β, space, ω1[j], ω2[k], 1 .-Y[:,1],Y[:,2],W, ham_eb)\n",
    "            integral = values1+values2\n",
    "\n",
    "            result[j,k] = integral\n",
    "        end\n",
    "    end\n",
    "    #result = integral\n",
    "    return result\n",
    "end\n",
    "\n",
    "function G_ABC_gl_transform_simplex(A, B, C, H, β, space, n_max1, n_max2)\n",
    "    G_ABC_gl_transform_simplex(A, B, C, H, β, space, n_max1, n_max2, 10)\n",
    "end\n",
    "\n",
    "# goal 1 again\n",
    "function G_ABC_transform(A, B, C, τ_arr1, τ_arr2, H, β, space, n_max1, n_max2)\n",
    "    n1 = collect(-n_max1:1:n_max1)\n",
    "    ω1 = (2n1.+0)*π/β\n",
    "    \n",
    "    n2 = collect(-n_max2:1:n_max2)\n",
    "    ω2 = (2n2.+0)*π/β\n",
    "    \n",
    "    Δτ1 = (β/size(τ_arr1)[1])\n",
    "    Δτ2 = (β/size(τ_arr2)[1])\n",
    "    \n",
    "    matrix1 = ℯ.^(im*ω1*transpose(τ_arr1))\n",
    "    result = Δτ1*matrix1*G_ABC(A,B,C,τ_arr1,τ_arr2,H,β,space,0.0)\n",
    "    \n",
    "    matrix2 = ℯ.^(im*ω2*transpose(τ_arr2))\n",
    "    result = Δτ2*matrix2*transpose(result)\n",
    "    return -transpose(result)\n",
    "end\n",
    "\n",
    "# split the area into two simplices - GrundmannMoeller\n",
    "\n",
    "using GrundmannMoeller\n",
    "\n",
    "list1 = []\n",
    "list2 = []\n",
    "\n",
    "function G_ABC_gm_part_simplex_array1(A, B, C, H, β, space, ω1, ω2, scheme, vertices, ham_eb)\n",
    "    function f(x) \n",
    "        if length(list1) < 600\n",
    "            append!(list1, [[x[1], x[2]]])\n",
    "        end\n",
    "        ℯ.^(im*ω1*(x[1]*β))*full_tau((A,B,C), [(x[1]*β,x[2]*β)], ham_eb, β)[1,1]*ℯ.^(im*ω2*(x[2]*β))*β^2\n",
    "    end \n",
    "    q = integrate(f, scheme, vertices)\n",
    "    #println(q)\n",
    "    return q\n",
    "end\n",
    "function G_ABC_gm_part_simplex_array2(A, B, C, H, β, space, ω1, ω2, scheme, vertices, ham_eb)\n",
    "    function f(x) \n",
    "        if length(list2) < 600\n",
    "            append!(list2, [[x[1], x[2]]])\n",
    "        end\n",
    "        ℯ.^(im*ω1*(x[1]*β))*full_tau((A,B,C), [(x[1]*β,x[2]*β)], ham_eb, β)[1,1]*ℯ.^(im*ω2*(x[2]*β))*β^2\n",
    "    end \n",
    "    q = integrate(f, scheme, vertices)\n",
    "    #println(q)\n",
    "    return q\n",
    "end\n",
    "\n",
    "# function is used like simplex quad\n",
    "function G_ABC_gm_part_simplex_array(A, B, C, H, β, space, ω1, ω2, scheme, vertices, ham_eb)\n",
    "    \n",
    "    function f(x) \n",
    "        ℯ.^(im*ω1*(x[1]*β))*full_tau((A,B,C), [(x[1]*β,x[2]*β)], ham_eb, β)[1,1]*ℯ.^(im*ω2*(x[2]*β))*β^2\n",
    "    end\n",
    "\n",
    "    q = integrate(f, scheme, vertices)\n",
    "    return q\n",
    "end\n",
    "\n",
    "# function plus matrix\n",
    "function G_ABC_gm_part_collect_points(scheme, vertices)\n",
    "    list = []\n",
    "    function f(x) \n",
    "        push!(list,(x[1], x[2]))\n",
    "        0\n",
    "    end\n",
    "\n",
    "    q = integrate(f, scheme, vertices)\n",
    "    return list\n",
    "end\n",
    "\n",
    "function G_ABC_gm_transform_simplex(A, B, C, H, β, space, n_max1, n_max2, npoints)\n",
    "    n1 = collect(-n_max1:1:n_max1)\n",
    "    ω1 = (2n1.+0)*π/β\n",
    "    \n",
    "    n2 = collect(-n_max2:1:n_max2)\n",
    "    ω2 = (2n2.+0)*π/β\n",
    "    \n",
    "    if(iseven(npoints))\n",
    "       npoints = npoints + 1\n",
    "       print(\"ONLY EVEN NPOINTS, INCREASING +1 TO npoints = \")\n",
    "       println(npoints)\n",
    "    end\n",
    "    scheme = grundmann_moeller(Float64, Val(2), npoints);\n",
    "    print(\"length: \")\n",
    "    println(length(scheme.weights))\n",
    "    \n",
    "    quantum_numbers = NullSet(space)\n",
    "    ham_eb = Fermions.Propagators.HamiltonianEigen(H, quantum_numbers, β)\n",
    "    \n",
    "    result = Array{typeof(zero(ComplexF64)), 2}(undef,length(ω1),length(ω2)) \n",
    "    for j in 1:length(ω1)\n",
    "        for k in 1:length(ω2)  \n",
    "\n",
    "            values1 = G_ABC_gm_part_simplex_array(A, B, C, H, β, space, ω1[j], ω2[k], scheme,[[0,0], [1,0], [1,1]], ham_eb)\n",
    "            values2 = G_ABC_gm_part_simplex_array(A, B, C, H, β, space, ω1[j], ω2[k], scheme,[[0,0], [0,1], [1,1]], ham_eb)\n",
    "            integral = values1-values2\n",
    "            \n",
    "            result[j,k] = integral\n",
    "        end\n",
    "    end\n",
    "    return result, 2*length(scheme.weights)\n",
    "end\n",
    "\n",
    "function G_ABC_gm_transform_simplex(A, B, C, H, β, space, n_max1, n_max2)\n",
    "    #npoints = 20\n",
    "    npoints = 30\n",
    "    res, npoints = G_ABC_gm_transform_simplex(A, B, C, H, β, space, n_max1, n_max2, npoints)\n",
    "    return res\n",
    "end\n",
    "\n",
    "function cutOffResonanceGR(transform3_simplex_split_gm, corerange)\n",
    "    transform3_simplex_split_gm1 = copy(transform3_simplex_split_gm)\n",
    "    x1 = Integer(round(size(transform3_simplex_split_gm1)[1]/2))\n",
    "    y1 = Integer(round(size(transform3_simplex_split_gm1)[2]/2))\n",
    "    #corerange = 5\n",
    "    max1 = maximum((transform3_simplex_split_gm1[x1-corerange:x1+corerange,y1-corerange:y1+corerange]))\n",
    "    min1 = minimum((transform3_simplex_split_gm1[x1-corerange:x1+corerange,y1-corerange:y1+corerange]))\n",
    "    transform3_simplex_split_gm1[(transform3_simplex_split_gm1) .> max1] .= 0\n",
    "    transform3_simplex_split_gm1[(transform3_simplex_split_gm1) .< min1] .= 0\n",
    "    return transform3_simplex_split_gm1\n",
    "end\n",
    "\n"
   ]
  },
  {
   "cell_type": "code",
   "execution_count": 16,
   "metadata": {},
   "outputs": [
    {
     "name": "stdout",
     "output_type": "stream",
     "text": [
      "  6.534065 seconds (7.55 M allocations: 358.589 MiB, 4.20% gc time, 96.98% compilation time)\n"
     ]
    },
    {
     "data": {
      "text/plain": [
       "\"\""
      ]
     },
     "execution_count": 16,
     "metadata": {},
     "output_type": "execute_result"
    }
   ],
   "source": [
    "wn = BosonicFreq(-30):BosonicFreq(30)\n",
    "ww = collect(Iterators.product(wn, wn))\n",
    "w = SparseIR.value.(wn, beta);\n",
    "\n",
    "A1 = c[1, 1]' * c[1, 1]\n",
    "B1 = c[1, 1]' * c[1, 1]\n",
    "C1 = c[1, 1]' * c[1, 1]\n",
    "\n",
    "tau = 0:0.1:beta\n",
    "tautau = collect(Iterators.product( tau,tau))\n",
    "\n",
    "@time R1_tau = full_tau((A1,B1,C1), tautau, ham_eb, beta)\n",
    "\n",
    "\"\"\n",
    "#plot(tau,tau,real.(R1_tau), st=:surface)"
   ]
  },
  {
   "cell_type": "code",
   "execution_count": 17,
   "metadata": {},
   "outputs": [
    {
     "name": "stdout",
     "output_type": "stream",
     "text": [
      "166.683949 seconds (30.48 M allocations: 2.781 GiB, 0.86% gc time, 7.53% compilation time)\n"
     ]
    },
    {
     "data": {
      "text/plain": [
       "23×23 Matrix{ComplexF64}:\n",
       "   -8.9525e-5-3.83437e-16im  …      0.131507+7.77156e-16im\n",
       " -0.000105639-6.85487e-16im       -0.0013526+2.18575e-16im\n",
       " -0.000126419-6.14092e-16im      -0.00109034+4.04191e-16im\n",
       " -0.000153752-1.0378e-15im      -0.000941972-8.06646e-16im\n",
       " -0.000190484-3.01842e-16im     -0.000852169+2.9924e-16im\n",
       " -0.000240983+3.99854e-16im  …  -0.000808941+4.69243e-16im\n",
       " -0.000311966+4.44957e-16im     -0.000808941+1.45283e-17im\n",
       " -0.000413663-3.90313e-16im     -0.000852169-1.44849e-16im\n",
       "  -0.00056152-1.10328e-15im     -0.000941972+5.06539e-16im\n",
       " -0.000782539-1.32186e-15im      -0.00109034+8.43076e-16im\n",
       "  -0.00115191+1.18308e-15im  …    -0.0013526-1.2039e-15im\n",
       "     0.131507-3.9968e-15im          0.131507+3.9968e-15im\n",
       "   -0.0013526+1.2039e-15im       -0.00115191-1.18308e-15im\n",
       "  -0.00109034-8.43076e-16im     -0.000782539+1.32186e-15im\n",
       " -0.000941972-5.06539e-16im      -0.00056152+1.10328e-15im\n",
       " -0.000852169+1.44849e-16im  …  -0.000413663+3.90313e-16im\n",
       " -0.000808941-1.45283e-17im     -0.000311966-4.44957e-16im\n",
       " -0.000808941-4.69243e-16im     -0.000240983-3.99854e-16im\n",
       " -0.000852169-2.9924e-16im      -0.000190484+3.01842e-16im\n",
       " -0.000941972+8.06646e-16im     -0.000153752+1.0378e-15im\n",
       "  -0.00109034-4.04191e-16im  …  -0.000126419+6.14092e-16im\n",
       "   -0.0013526-2.18575e-16im     -0.000105639+6.85487e-16im\n",
       "     0.131507-7.77156e-16im       -8.9525e-5+3.83437e-16im"
      ]
     },
     "execution_count": 17,
     "metadata": {},
     "output_type": "execute_result"
    }
   ],
   "source": [
    "@time R1_omega = G_ABC_gl_transform_simplex(A1, B1, C1, H, beta, space, 11, 11, 50)\n"
   ]
  },
  {
   "cell_type": "code",
   "execution_count": 18,
   "metadata": {},
   "outputs": [
    {
     "name": "stdout",
     "output_type": "stream",
     "text": [
      "21.26863124810444\n"
     ]
    },
    {
     "data": {
      "image/png": "[encoded data removed]"
     },
     "execution_count": 18,
     "metadata": {},
     "output_type": "execute_result"
    }
   ],
   "source": [
    "wn = BosonicFreq(-22):BosonicFreq(22)\n",
    "ww = collect(Iterators.product(wn, wn))\n",
    "w = SparseIR.value.(wn, beta);\n",
    "#println(w)\n",
    "#println(maximum(real.(R1_omega)))\n",
    "#plot(w,w,real.(R1_omega), st=:surface)\n",
    "#plot(w,w,real.(R1_omega))\n",
    "\n",
    "#Pkg.add(\"PyPlot\")\n",
    "#using PyPlot;\n",
    "#surf(w, w, real.(R1_omega))\n",
    "\n",
    "#heatmap(w, w, real.(R1_omega), c = :thermal)\n",
    "\n",
    "function showMeTheR(R_what, title)\n",
    "    wn = BosonicFreq(-22):BosonicFreq(22)\n",
    "    ww = collect(Iterators.product(wn, wn))\n",
    "    w = SparseIR.value.(wn, beta);\n",
    "    #println(w)\n",
    "    println(maximum(real.(R_what)))\n",
    "    R_modified = copy(R_what)\n",
    "    R_modified[12,12] = 0\n",
    "    #plot(w,w,real.(R_what), st=:surface)\n",
    "    h = heatmap(w, w, real.(R_modified), c = :thermal,\n",
    "    title = title, \n",
    "    lw = 1, xlabel = L\"\\omega_{\\nu}\", ylabel =  L\"\\omega_{\\mu}\", fmt = :png) \n",
    "    return h\n",
    "end\n",
    "\n",
    "function showMeTheI(R_what, title)\n",
    "    wn = BosonicFreq(-22):BosonicFreq(22)\n",
    "    ww = collect(Iterators.product(wn, wn))\n",
    "    w = SparseIR.value.(wn, beta);\n",
    "    #println(w)\n",
    "    println(maximum(imag.(R_what)))\n",
    "    R_modified = copy(R_what)\n",
    "    R_modified[12,12] = 0\n",
    "    #plot(w,w,real.(R_what), st=:surface)\n",
    "    h = heatmap(w, w, imag.(R_modified), c = :thermal,\n",
    "    title = title, \n",
    "    lw = 1, xlabel = L\"\\omega_{\\nu}\", ylabel =  L\"\\omega_{\\mu}\", fmt = :png)\n",
    "    return h\n",
    "end\n",
    "\n",
    "function showMeTheR(R_what)\n",
    "   showMeTheR(R_what, \"Plot\")\n",
    "end\n",
    "\n",
    "function showMeThe(R_what)\n",
    "   showMeTheR(R_what, \"Plot\")\n",
    "end\n",
    "\n",
    "function showMeTheI(R_what)\n",
    "   showMeTheI(R_what, \"Plot\")\n",
    "end\n",
    "\n",
    "showMeTheR(R1_omega)\n",
    "#cutoff"
   ]
  },
  {
   "cell_type": "code",
   "execution_count": 19,
   "metadata": {},
   "outputs": [
    {
     "data": {
      "text/plain": [
       "101×101 Matrix{Float64}:\n",
       " 0.257418  0.221887  0.198584  0.183069  …  0.198584  0.221887  0.257418\n",
       " 0.221887  0.258715  0.223989  0.200994     0.181991  0.197792  0.221887\n",
       " 0.198584  0.223989  0.261544  0.227144     0.17119   0.181991  0.198584\n",
       " 0.183069  0.200994  0.227144  0.264902     0.164047  0.171468  0.183069\n",
       " 0.172568  0.185521  0.204209  0.230578     0.15924   0.164338  0.172568\n",
       " 0.165332  0.17493   0.188664  0.207588  …  0.155939  0.159417  0.165332\n",
       " 0.160252  0.167549  0.177942  0.191924     0.153623  0.155951  0.160252\n",
       " 0.156615  0.162307  0.17041   0.181061     0.151959  0.153459  0.156615\n",
       " 0.153957  0.158512  0.165018  0.173386     0.150733  0.151626  0.153957\n",
       " 0.151973  0.155709  0.161085  0.167862     0.149806  0.150247  0.151973\n",
       " 0.150463  0.153598  0.158159  0.16381   …  0.149086  0.149186  0.150463\n",
       " 0.149288  0.151977  0.155941  0.16078      0.148513  0.148351  0.149288\n",
       " 0.148356  0.150707  0.154227  0.158473     0.148046  0.14768   0.148356\n",
       " ⋮                                       ⋱                      ⋮\n",
       " 0.149288  0.148351  0.148513  0.14917      0.155941  0.151977  0.149288\n",
       " 0.150463  0.149186  0.149086  0.149538  …  0.158159  0.153598  0.150463\n",
       " 0.151973  0.150247  0.149806  0.149996     0.161085  0.155709  0.151973\n",
       " 0.153957  0.151626  0.150733  0.150581     0.165018  0.158512  0.153957\n",
       " 0.156615  0.153459  0.151959  0.151354     0.17041   0.162307  0.156615\n",
       " 0.160252  0.155951  0.153623  0.15241      0.177942  0.167549  0.160252\n",
       " 0.165332  0.159417  0.155939  0.153896  …  0.188664  0.17493   0.165332\n",
       " 0.172568  0.164338  0.15924   0.156045     0.204209  0.185521  0.172568\n",
       " 0.183069  0.171468  0.164047  0.159229     0.227144  0.200994  0.183069\n",
       " 0.198584  0.181991  0.17119   0.164047     0.261544  0.223989  0.198584\n",
       " 0.221887  0.197792  0.181991  0.171468     0.223989  0.258715  0.221887\n",
       " 0.257418  0.221887  0.198584  0.183069  …  0.198584  0.221887  0.257418"
      ]
     },
     "execution_count": 19,
     "metadata": {},
     "output_type": "execute_result"
    }
   ],
   "source": [
    "A4 = c[1, 1]' * c[1, 1]\n",
    "B4 = c[1, 1]' * c[1, 1]\n",
    "C4 = c[1, 2]' * c[1, 2]\n",
    "\n",
    "R4_tau = full_tau((A4,B4,C4), tautau, ham_eb, beta)"
   ]
  },
  {
   "cell_type": "code",
   "execution_count": 20,
   "metadata": {},
   "outputs": [
    {
     "name": "stdout",
     "output_type": "stream",
     "text": [
      "228.266591 seconds (16.33 M allocations: 2.061 GiB, 1.06% gc time, 0.01% compilation time)\n"
     ]
    },
    {
     "data": {
      "text/plain": [
       "23×23 Matrix{ComplexF64}:\n",
       "  1.42528e-6-2.06435e-16im  …     0.134359-2.22045e-16im\n",
       "  1.81523e-6-6.85948e-16im      0.00056333-7.63278e-17im\n",
       "  2.34828e-6-3.09865e-16im     0.000344301+2.37657e-16im\n",
       "  3.09173e-6-6.73615e-16im     0.000240006-1.09721e-15im\n",
       "  4.15113e-6-1.95156e-16im     0.000179142+2.77556e-16im\n",
       "  5.69559e-6+3.39789e-16im  …  0.000140697+4.29344e-16im\n",
       "  7.99982e-6+3.30465e-16im     0.000115807-4.42354e-17im\n",
       "  1.15113e-5-2.60642e-16im      9.94279e-5-2.31586e-16im\n",
       "  1.69511e-5-5.85035e-16im        8.831e-5+3.67761e-16im\n",
       "  2.54895e-5-9.28077e-16im      8.02797e-5+5.82867e-16im\n",
       "  3.92956e-5+9.84456e-16im  …   7.37694e-5-1.4936e-15im\n",
       " -0.00656359-4.57967e-15im     -0.00656359+4.57967e-15im\n",
       "  7.37694e-5+1.4936e-15im       3.92956e-5-9.84456e-16im\n",
       "  8.02797e-5-5.82867e-16im      2.54895e-5+9.28077e-16im\n",
       "    8.831e-5-3.67761e-16im      1.69511e-5+5.85035e-16im\n",
       "  9.94279e-5+2.31586e-16im  …   1.15113e-5+2.60642e-16im\n",
       " 0.000115807+4.42354e-17im      7.99982e-6-3.30465e-16im\n",
       " 0.000140697-4.29344e-16im      5.69559e-6-3.39789e-16im\n",
       " 0.000179142-2.77556e-16im      4.15113e-6+1.95156e-16im\n",
       " 0.000240006+1.09721e-15im      3.09173e-6+6.73615e-16im\n",
       " 0.000344301-2.37657e-16im  …   2.34828e-6+3.09865e-16im\n",
       "  0.00056333+7.63278e-17im      1.81523e-6+6.85948e-16im\n",
       "    0.134359+2.22045e-16im      1.42528e-6+2.06435e-16im"
      ]
     },
     "execution_count": 20,
     "metadata": {},
     "output_type": "execute_result"
    }
   ],
   "source": [
    "@time R4_omega = G_ABC_gl_transform_simplex(A4, B4, C4, H, beta, space, 11, 11, 50)\n"
   ]
  },
  {
   "cell_type": "code",
   "execution_count": 21,
   "metadata": {},
   "outputs": [
    {
     "name": "stdout",
     "output_type": "stream",
     "text": [
      "16.783072672554724\n"
     ]
    },
    {
     "data": {
      "image/png": "[encoded data removed]"
     },
     "execution_count": 21,
     "metadata": {},
     "output_type": "execute_result"
    }
   ],
   "source": [
    "showMeThe(R4_omega)\n",
    "#cutoff"
   ]
  },
  {
   "cell_type": "code",
   "execution_count": 22,
   "metadata": {},
   "outputs": [
    {
     "data": {
      "text/plain": [
       "101×101 Matrix{Float64}:\n",
       " 0.292593  -1.37948e-18  -8.9077e-18  …  7.36755e-17  8.45858e-17\n",
       " 0.263909   0.227081      0.00134698     0.0275444    0.0368281\n",
       " 0.24343    0.20578       0.18047        0.0472173    0.0629601\n",
       " 0.228489   0.190435      0.164286       0.0615307    0.0818333\n",
       " 0.217362   0.179132      0.152517       0.0721421    0.0957148\n",
       " 0.208912   0.17063       0.143762    …  0.0801577    0.106114\n",
       " 0.202374   0.164108      0.137109       0.0863253    0.11405\n",
       " 0.197226   0.159014      0.131957       0.091157     0.120214\n",
       " 0.193105   0.154967      0.127894       0.0950084    0.125087\n",
       " 0.189754   0.151698      0.124638       0.0981298    0.129004\n",
       " 0.186989   0.14902       0.121988    …  0.1007       0.132205\n",
       " 0.184675   0.146793      0.1198         0.102847     0.134859\n",
       " 0.182713   0.144917      0.117968       0.104666     0.137092\n",
       " ⋮                                    ⋱               ⋮\n",
       " 0.184675   0.144917      0.116416       0.1007       0.134859\n",
       " 0.186989   0.146793      0.117968    …  0.0981298    0.132205\n",
       " 0.189754   0.14902       0.1198         0.0950084    0.129004\n",
       " 0.193105   0.151698      0.121988       0.091157     0.125087\n",
       " 0.197226   0.154967      0.124638       0.0863253    0.120214\n",
       " 0.202374   0.159014      0.127894       0.0801577    0.11405\n",
       " 0.208912   0.164108      0.131957    …  0.0721421    0.106114\n",
       " 0.217362   0.17063       0.137109       0.0615307    0.0957148\n",
       " 0.228489   0.179132      0.143762       0.0472173    0.0818333\n",
       " 0.24343    0.190435      0.152517       0.0275444    0.0629601\n",
       " 0.263909   0.20578       0.164286       0.227081     0.0368281\n",
       " 0.292593   0.227081      0.18047     …  0.227081     0.292593"
      ]
     },
     "execution_count": 22,
     "metadata": {},
     "output_type": "execute_result"
    }
   ],
   "source": [
    "A7 = c[1, 1]' * c[1, 1]\n",
    "B7 = c[1, 1]' * c[1, 2]\n",
    "C7 = c[1, 2]' * c[1, 1]\n",
    "\n",
    "R7_tau = full_tau((A7,B7,C7), tautau, ham_eb, beta)"
   ]
  },
  {
   "cell_type": "code",
   "execution_count": 23,
   "metadata": {},
   "outputs": [
    {
     "name": "stdout",
     "output_type": "stream",
     "text": [
      "125.905677 seconds (15.23 M allocations: 1.742 GiB, 0.35% gc time)\n"
     ]
    },
    {
     "data": {
      "text/plain": [
       "23×23 Matrix{ComplexF64}:\n",
       "  -4.54751e-5+3.13261e-14im  …   -0.00142577-0.0510453im\n",
       "  -5.31356e-5-0.000327385im     -0.000947531-0.0288751im\n",
       "  -6.28272e-5-0.000766252im     -0.000700227-0.0170145im\n",
       "  -7.52841e-5-0.00135914im      -0.000567495-0.0105992im\n",
       "  -9.15621e-5-0.00216793im      -0.000485032-0.00592464im\n",
       " -0.000113178-0.00328435im   …  -0.000435227-0.00191251im\n",
       " -0.000142259-0.00484783im      -0.000410338+0.00191251im\n",
       " -0.000181571-0.00708175im      -0.000405319+0.00592464im\n",
       " -0.000234113-0.0103995im       -0.000415798+0.0105992im\n",
       " -0.000301834-0.0158725im       -0.000436206+0.0170145im\n",
       " -0.000383083-0.0273392im    …  -0.000457971+0.0288751im\n",
       "     0.139496-0.0510453im           0.139496+0.0510453im\n",
       " -0.000457971-0.0288751im       -0.000383083+0.0273392im\n",
       " -0.000436206-0.0170145im       -0.000301834+0.0158725im\n",
       " -0.000415798-0.0105992im       -0.000234113+0.0103995im\n",
       " -0.000405319-0.00592464im   …  -0.000181571+0.00708175im\n",
       " -0.000410338-0.00191251im      -0.000142259+0.00484783im\n",
       " -0.000435227+0.00191251im      -0.000113178+0.00328435im\n",
       " -0.000485032+0.00592464im       -9.15621e-5+0.00216793im\n",
       " -0.000567495+0.0105992im        -7.52841e-5+0.00135914im\n",
       " -0.000700227+0.0170145im    …   -6.28272e-5+0.000766252im\n",
       " -0.000947531+0.0288751im        -5.31356e-5+0.000327385im\n",
       "  -0.00142577+0.0510453im        -4.54751e-5-3.13261e-14im"
      ]
     },
     "execution_count": 23,
     "metadata": {},
     "output_type": "execute_result"
    }
   ],
   "source": [
    "@time R7_omega = G_ABC_gl_transform_simplex(A7, B7, C7, H, beta, space, 11, 11, 50)\n"
   ]
  },
  {
   "cell_type": "code",
   "execution_count": 24,
   "metadata": {},
   "outputs": [
    {
     "name": "stdout",
     "output_type": "stream",
     "text": [
      "2.242779287774809\n"
     ]
    },
    {
     "data": {
      "image/png": "[encoded data removed]"
     },
     "execution_count": 24,
     "metadata": {},
     "output_type": "execute_result"
    }
   ],
   "source": [
    "showMeThe(R7_omega)"
   ]
  },
  {
   "cell_type": "code",
   "execution_count": 25,
   "metadata": {},
   "outputs": [
    {
     "data": {
      "text/plain": [
       "G_ABC_Lehmann_Bosonic (generic function with 1 method)"
      ]
     },
     "execution_count": 25,
     "metadata": {},
     "output_type": "execute_result"
    }
   ],
   "source": [
    "function isnearzero(val)\n",
    "    if real(val)+imag(val) > -0.00000001 &&\n",
    "       real(val)+imag(val) < 0.00000001\n",
    "        return true\n",
    "    end\n",
    "    return false\n",
    "end\n",
    "\n",
    "function integralterm1(β, ϵ, ϵ_n, m, s, ω1, ω2, i, j)\n",
    "    \n",
    "    term = 0\n",
    "    #swap omegas \\nu = 1 \\mu = 2\n",
    "    enval1 = ϵ[s]-ϵ[m]-im*ω2[j]\n",
    "    enval2 = ϵ[m]-ϵ_n-im*ω1[i]\n",
    "    envalm = ϵ[s]-ϵ_n-im*ω1[i]-im*ω2[j]\n",
    "    \n",
    "    if isnearzero(enval1)\n",
    "        if isnearzero(enval2)\n",
    "        #term1\n",
    "        term = term - (β^2)/2\n",
    "        else\n",
    "            #.+\n",
    "        term = term + (β*ℯ^(-β*enval2)  )/(enval2  )\n",
    "        term = term + (1*ℯ^(-β*enval2)-1)/(enval2^2) \n",
    "        end\n",
    "    else\n",
    "        #term2\n",
    "        #.+-\n",
    "        td = 1/enval1\n",
    "        if isnearzero(enval2)\n",
    "            td = td * - β\n",
    "        else\n",
    "            td = td * + (ℯ^(-β*enval2)-1)/(enval2)\n",
    "        end\n",
    "        term = term+td\n",
    "        #term3\n",
    "        #-\n",
    "        td = 1/enval1 ###\n",
    "        if isnearzero(envalm)\n",
    "            td = td * + β\n",
    "        else\n",
    "            td = td * - (ℯ^(-β*envalm)-1)/envalm\n",
    "        end\n",
    "        term = term+td\n",
    "    end \n",
    "    return term\n",
    "end\n",
    "\n",
    "function G_ABC_n_ord_Lehmann_Bosonic(Ψn::Array{Complex{T},2},ϵ::Array{T,1},ϵ_n::Real, A::Operator,B::Operator,\n",
    "    C::Operator,n::Array{Complex{T},1}, ω1::Array{T,1},ω2::Array{T,1},β::Real) where T <: Real\n",
    "    \n",
    "    val_arr1 = zeros(length(ω1),length(ω2)) .+ 0im\n",
    "    val_arr2 = zeros(length(ω1),length(ω2)) .+ 0im\n",
    "    for i in 1:length(ω1), j in 1:length(ω2)\n",
    "        val_arr1[i,j] = 0 + 0im\n",
    "        val_arr2[i,j] = 0 + 0im\n",
    "        for m in 1:length(ϵ), s in 1:length(ϵ)\n",
    "            \n",
    "            product = dot(n,A*Ψn[:,m])*dot(Ψn[:,m],B*Ψn[:,s])*dot(Ψn[:,s],C*n)\n",
    "            ###\n",
    "            term = integralterm1(β, ϵ, ϵ_n, m, s, ω1, ω2, i, j)\n",
    "\n",
    "            product = term * product\n",
    "            val_arr1[i,j] += product\n",
    "\n",
    "            product = dot(n,B*Ψn[:,m])*dot(Ψn[:,m],A*Ψn[:,s])*dot(Ψn[:,s],C*n)\n",
    "            ###\n",
    "            term = integralterm1(β, ϵ, ϵ_n, m, s, ω2, ω1, j, i)\n",
    "\n",
    "            product = term * product\n",
    "            val_arr2[i,j] += product\n",
    "\n",
    "        end\n",
    "        val_arr1[i,j] *= exp(-ϵ_n*β)\n",
    "        if wick_parity(A) * wick_parity(B) == 1 #two fermionic Operators\n",
    "            println(\"fermionic??\")\n",
    "            val_arr2[i,j] *= -1.0*exp(-ϵ_n*β)\n",
    "        else\n",
    "            val_arr2[i,j] *= exp(-ϵ_n*β)\n",
    "        end\n",
    "    end\n",
    "    return val_arr1+val_arr2\n",
    "end\n",
    "\n",
    "function G_ABC_Lehmann_Bosonic(A::Operator, B::Operator,C::Operator, τ1::Array{T,1},\n",
    "    τ2::Array{T,1},H::Operator,β::Real, n_max1::Integer, n_max2::Integer) where T <: Real\n",
    "    \n",
    "    n1 = collect(-n_max1:1:n_max1)\n",
    "    ω1 = (2n1)*π/β\n",
    "    \n",
    "    n2 = collect(-n_max2:1:n_max2)\n",
    "    ω2 = (2n2)*π/β\n",
    "    \n",
    "    H_eigvec = eigvecs(Array(H)) .+ 0im\n",
    "    H_eigene = eigvals(Array(H))\n",
    "    H_eigene = H_eigene .- H_eigene[1] #shift spectrum\n",
    "    Z = 0\n",
    "    print(\" length \")\n",
    "    print(length(ω1))\n",
    "    print(\" x \")\n",
    "    println(length(ω2))\n",
    "    println(length(H_eigene))\n",
    "    flush(stdout)\n",
    "    result = zeros(length(τ1),length(τ2)) .+ 0im\n",
    "    for i in 1:length(H_eigene)\n",
    "        print(\"> eigen value: \")\n",
    "        println(i)\n",
    "        flush(stdout)\n",
    "        if i == 1\n",
    "            result=G_ABC_n_ord_Lehmann_Bosonic(H_eigvec,H_eigene,H_eigene[i],A,B,C,H_eigvec[:,i],ω1,ω2,β)\n",
    "        else\n",
    "            result=result .+ G_ABC_n_ord_Lehmann_Bosonic(H_eigvec,H_eigene,H_eigene[i],A,B,C,H_eigvec[:,i],ω1,ω2,β)\n",
    "        end\n",
    "        Z += exp(-β*H_eigene[i])\n",
    "    end\n",
    "    result = -1.0 .* result ./ Z\n",
    "    return result\n",
    "end"
   ]
  },
  {
   "cell_type": "code",
   "execution_count": 26,
   "metadata": {},
   "outputs": [
    {
     "name": "stdout",
     "output_type": "stream",
     "text": [
      " length 3 x 1\n",
      "256\n",
      "> eigen value: 1\n",
      "> eigen value: 2\n",
      "> eigen value: 3\n",
      "> eigen value: 4\n",
      "> eigen value: 5\n",
      "> eigen value: 6\n",
      "> eigen value: 7\n",
      "> eigen value: 8\n",
      "> eigen value: 9\n",
      "> eigen value: 10\n",
      "> eigen value: 11\n",
      "> eigen value: 12\n",
      "> eigen value: 13\n",
      "> eigen value: 14\n",
      "> eigen value: 15\n",
      "> eigen value: 16\n",
      "> eigen value: 17\n",
      "> eigen value: 18\n",
      "> eigen value: 19\n",
      "> eigen value: 20\n",
      "> eigen value: 21\n",
      "> eigen value: 22\n",
      "> eigen value: 23\n",
      "> eigen value: 24\n",
      "> eigen value: 25\n",
      "> eigen value: 26\n",
      "> eigen value: 27\n",
      "> eigen value: 28\n",
      "> eigen value: 29\n",
      "> eigen value: 30\n",
      "> eigen value: 31\n",
      "> eigen value: 32\n",
      "> eigen value: 33\n",
      "> eigen value: 34\n",
      "> eigen value: 35\n",
      "> eigen value: 36\n",
      "> eigen value: 37\n",
      "> eigen value: 38\n",
      "> eigen value: 39\n",
      "> eigen value: 40\n",
      "> eigen value: 41\n",
      "> eigen value: 42\n",
      "> eigen value: 43\n",
      "> eigen value: 44\n",
      "> eigen value: 45\n",
      "> eigen value: 46\n",
      "> eigen value: 47\n",
      "> eigen value: 48\n",
      "> eigen value: 49\n",
      "> eigen value: 50\n",
      "> eigen value: 51\n",
      "> eigen value: 52\n",
      "> eigen value: 53\n",
      "> eigen value: 54\n",
      "> eigen value: 55\n",
      "> eigen value: 56\n",
      "> eigen value: 57\n",
      "> eigen value: 58\n",
      "> eigen value: 59\n",
      "> eigen value: 60\n",
      "> eigen value: 61\n",
      "> eigen value: 62\n",
      "> eigen value: 63\n",
      "> eigen value: 64\n",
      "> eigen value: 65\n",
      "> eigen value: 66\n",
      "> eigen value: 67\n",
      "> eigen value: 68\n",
      "> eigen value: 69\n",
      "> eigen value: 70\n",
      "> eigen value: 71\n",
      "> eigen value: 72\n",
      "> eigen value: 73\n",
      "> eigen value: 74\n",
      "> eigen value: 75\n",
      "> eigen value: 76\n",
      "> eigen value: 77\n",
      "> eigen value: 78\n",
      "> eigen value: 79\n",
      "> eigen value: 80\n",
      "> eigen value: 81\n",
      "> eigen value: 82\n",
      "> eigen value: 83\n",
      "> eigen value: 84\n",
      "> eigen value: 85\n",
      "> eigen value: 86\n",
      "> eigen value: 87\n",
      "> eigen value: 88\n",
      "> eigen value: 89\n",
      "> eigen value: 90\n",
      "> eigen value: 91\n",
      "> eigen value: 92\n",
      "> eigen value: 93\n",
      "> eigen value: 94\n",
      "> eigen value: 95\n",
      "> eigen value: 96\n",
      "> eigen value: 97\n",
      "> eigen value: 98\n",
      "> eigen value: 99\n",
      "> eigen value: 100\n",
      "> eigen value: 101\n",
      "> eigen value: 102\n",
      "> eigen value: 103\n",
      "> eigen value: 104\n",
      "> eigen value: 105\n",
      "> eigen value: 106\n",
      "> eigen value: 107\n",
      "> eigen value: 108\n",
      "> eigen value: 109\n",
      "> eigen value: 110\n",
      "> eigen value: 111\n",
      "> eigen value: 112\n",
      "> eigen value: 113\n",
      "> eigen value: 114\n",
      "> eigen value: 115\n",
      "> eigen value: 116\n",
      "> eigen value: 117\n",
      "> eigen value: 118\n",
      "> eigen value: 119\n",
      "> eigen value: 120\n",
      "> eigen value: 121\n",
      "> eigen value: 122\n",
      "> eigen value: 123\n",
      "> eigen value: 124\n",
      "> eigen value: 125\n",
      "> eigen value: 126\n",
      "> eigen value: 127\n",
      "> eigen value: 128\n",
      "> eigen value: 129\n",
      "> eigen value: 130\n",
      "> eigen value: 131\n",
      "> eigen value: 132\n",
      "> eigen value: 133\n",
      "> eigen value: 134\n",
      "> eigen value: 135\n",
      "> eigen value: 136\n",
      "> eigen value: 137\n",
      "> eigen value: 138\n",
      "> eigen value: 139\n",
      "> eigen value: 140\n",
      "> eigen value: 141\n",
      "> eigen value: 142\n",
      "> eigen value: 143\n",
      "> eigen value: 144\n",
      "> eigen value: 145\n",
      "> eigen value: 146\n",
      "> eigen value: 147\n",
      "> eigen value: 148\n",
      "> eigen value: 149\n",
      "> eigen value: 150\n",
      "> eigen value: 151\n",
      "> eigen value: 152\n",
      "> eigen value: 153\n",
      "> eigen value: 154\n",
      "> eigen value: 155\n",
      "> eigen value: 156\n",
      "> eigen value: 157\n",
      "> eigen value: 158\n",
      "> eigen value: 159\n",
      "> eigen value: 160\n",
      "> eigen value: 161\n",
      "> eigen value: 162\n",
      "> eigen value: 163\n",
      "> eigen value: 164\n",
      "> eigen value: 165\n",
      "> eigen value: 166\n",
      "> eigen value: 167\n",
      "> eigen value: 168\n",
      "> eigen value: 169\n",
      "> eigen value: 170\n",
      "> eigen value: 171\n",
      "> eigen value: 172\n",
      "> eigen value: 173\n",
      "> eigen value: 174\n",
      "> eigen value: 175\n",
      "> eigen value: 176\n",
      "> eigen value: 177\n",
      "> eigen value: 178\n",
      "> eigen value: 179\n",
      "> eigen value: 180\n",
      "> eigen value: 181\n",
      "> eigen value: 182\n",
      "> eigen value: 183\n",
      "> eigen value: 184\n",
      "> eigen value: 185\n",
      "> eigen value: 186\n",
      "> eigen value: 187\n",
      "> eigen value: 188\n",
      "> eigen value: 189\n",
      "> eigen value: 190\n",
      "> eigen value: 191\n",
      "> eigen value: 192\n",
      "> eigen value: 193\n",
      "> eigen value: 194\n",
      "> eigen value: 195\n",
      "> eigen value: 196\n",
      "> eigen value: 197\n",
      "> eigen value: 198\n",
      "> eigen value: 199\n",
      "> eigen value: 200\n",
      "> eigen value: 201\n",
      "> eigen value: 202\n",
      "> eigen value: 203\n",
      "> eigen value: 204\n",
      "> eigen value: 205\n",
      "> eigen value: 206\n",
      "> eigen value: 207\n",
      "> eigen value: 208\n",
      "> eigen value: 209\n",
      "> eigen value: 210\n",
      "> eigen value: 211\n",
      "> eigen value: 212\n",
      "> eigen value: 213\n",
      "> eigen value: 214\n",
      "> eigen value: 215\n",
      "> eigen value: 216\n",
      "> eigen value: 217\n",
      "> eigen value: 218\n",
      "> eigen value: 219\n",
      "> eigen value: 220\n",
      "> eigen value: 221\n",
      "> eigen value: 222\n",
      "> eigen value: 223\n",
      "> eigen value: 224\n",
      "> eigen value: 225\n",
      "> eigen value: 226\n",
      "> eigen value: 227\n",
      "> eigen value: 228\n",
      "> eigen value: 229\n",
      "> eigen value: 230\n",
      "> eigen value: 231\n",
      "> eigen value: 232\n",
      "> eigen value: 233\n",
      "> eigen value: 234\n",
      "> eigen value: 235\n",
      "> eigen value: 236\n",
      "> eigen value: 237\n",
      "> eigen value: 238\n",
      "> eigen value: 239\n",
      "> eigen value: 240\n",
      "> eigen value: 241\n",
      "> eigen value: 242\n",
      "> eigen value: 243\n",
      "> eigen value: 244\n",
      "> eigen value: 245\n",
      "> eigen value: 246\n",
      "> eigen value: 247\n",
      "> eigen value: 248\n",
      "> eigen value: 249\n",
      "> eigen value: 250\n",
      "> eigen value: 251\n",
      "> eigen value: 252\n",
      "> eigen value: 253\n",
      "> eigen value: 254\n",
      "> eigen value: 255\n",
      "> eigen value: 256\n",
      "1850.089697 seconds (707.23 M allocations: 2.707 TiB, 18.57% gc time, 0.21% compilation time)\n"
     ]
    },
    {
     "data": {
      "text/plain": [
       "3×1 Matrix{Float64}:\n",
       " -0.020978330452514477\n",
       "  2.2427792877748405\n",
       " -0.020978330452514477"
      ]
     },
     "execution_count": 26,
     "metadata": {},
     "output_type": "execute_result"
    }
   ],
   "source": [
    "#n_max3 = 5\n",
    "n_max3 = 1\n",
    "n_max = n_max3\n",
    "n3 = collect(-n_max:1:n_max)\n",
    "n=n3\n",
    "ω3 = (2n)*π/beta\n",
    "\n",
    "τ1_arr = [0.0,1.0,2.0,3.0,4.0,5.0,6.0,7.0,8.0,9.0,10.0]\n",
    "τ2_arr = [0.0,1.0,2.0,3.0,4.0,5.0,6.0,7.0,8.0,9.0,10.0]\n",
    "#for i in 1:100\n",
    "#    push!(τ1_arr,i/10)\n",
    "#end\n",
    "\n",
    "@time lehmann3 = G_ABC_Lehmann_Bosonic(A7,B7,C7,τ1_arr,τ2_arr,H,beta, n_max3, 0)[:,:]\n",
    "transform3_Lehmann_imag = imag(lehmann3)\n",
    "transform3_Lehmann_real = real(lehmann3)"
   ]
  },
  {
   "cell_type": "code",
   "execution_count": 27,
   "metadata": {},
   "outputs": [
    {
     "name": "stdout",
     "output_type": "stream",
     "text": [
      "  0.035056 seconds (16.16 k allocations: 5.167 MiB, 20.17% compilation time)\n",
      "ONLY EVEN NPOINTS, INCREASING +1 TO npoints = 31\n",
      "length: 816\n",
      " 71.756145 seconds (12.34 M allocations: 48.915 GiB, 7.46% gc time, 6.72% compilation time)\n"
     ]
    },
    {
     "ename": "LoadError",
     "evalue": "UndefVarError: β not defined",
     "output_type": "error",
     "traceback": [
      "UndefVarError: β not defined",
      "",
      "Stacktrace:",
      " [1] top-level scope",
      "   @ In[27]:3"
     ]
    }
   ],
   "source": [
    "@time R7_omega1 = G_ABC_gl_transform_simplex(A7, B7, C7, H, beta, space, n_max3, 0)\n",
    "@time R7_omega2 = G_ABC_gm_transform_simplex(A7, B7, C7, H, beta, space, n_max3, 0)\n",
    "tau_arr3 = collect(0.:0.1:β-0.1) \n",
    "@time R7_omega3= G_ABC_transform(A7, B7, C7, tau_arr3, tau_arr3, H, beta, space, n_max3, 0)\n",
    "#transform3_Lehmann_real\n",
    "println(max.(transform3_Lehmann_real))\n",
    "println(max.(real(R7_omega1)))\n",
    "println(max.(real(R7_omega2)))\n",
    "println(max.(real(R7_omega3)))\n",
    "\n",
    "\n",
    "plot(ω3, (transform3_Lehmann_real), label = \"lehmann\")\n",
    "plot!(ω3, real(R7_omega1), label = \"simplexquad\")\n",
    "plot!(ω3, real(R7_omega2), label = \"grundmann\")\n",
    "plot!(ω3, real(R7_omega3), label = \"naive\")\n",
    "\n",
    "#R1 R4 R7 real, imag\n",
    "#R1 density density density\n",
    "#R4 nup nup ndown\n",
    "#R7 mixed - explicit N*sx*sy\n",
    "\n",
    "#heatmap(ω3, ω3, transform3_Lehmann_real, c = :thermal) "
   ]
  },
  {
   "cell_type": "code",
   "execution_count": 28,
   "metadata": {},
   "outputs": [
    {
     "ename": "LoadError",
     "evalue": "UndefVarError: R7_omega3 not defined",
     "output_type": "error",
     "traceback": [
      "UndefVarError: R7_omega3 not defined",
      "",
      "Stacktrace:",
      " [1] top-level scope",
      "   @ In[28]:4"
     ]
    }
   ],
   "source": [
    "plot(ω3, (transform3_Lehmann_imag), label = \"lehmann\")\n",
    "plot!(ω3, imag(R7_omega1), label = \"simplexquad\")\n",
    "plot!(ω3, imag(R7_omega2), label = \"grundmann\")\n",
    "plot!(ω3, imag(R7_omega3), label = \"naive\")"
   ]
  },
  {
   "cell_type": "code",
   "execution_count": 49,
   "metadata": {},
   "outputs": [
    {
     "name": "stdout",
     "output_type": "stream",
     "text": [
      "2.0\n",
      "(5,)\n",
      "time: 1.5365485\n",
      "1.0\n",
      "(10,)\n",
      "time: 3.8874488\n",
      "0.6666666666666666\n",
      "(15,)\n",
      "time: 7.2407527\n",
      "0.5\n",
      "(20,)\n",
      "time: 11.9586725\n",
      "0.4\n",
      "(25,)\n",
      "time: 17.2774442\n",
      "0.3333333333333333\n",
      "(30,)\n",
      "time: 24.0355927\n",
      "0.2857142857142857\n",
      "(35,)\n",
      "time: 34.3937022\n",
      "0.25\n",
      "(40,)\n",
      "time: 46.2610827\n"
     ]
    }
   ],
   "source": [
    "numpointss_Naive = []\n",
    "errors_Naive = []\n",
    "#runtime_Lehmann = []\n",
    "runtime_Naive = []\n",
    "values_Naive = []\n",
    "\n",
    "β = β3 = beta\n",
    "A3 = A7\n",
    "B3 = B7\n",
    "C3 = C7\n",
    "H3 = H\n",
    "space3 = space\n",
    "n_max3 = n_max\n",
    "\n",
    "tau_arr_Lehmann = collect(0.:0.05:β-0.05) \n",
    "#@time transform_Lehmann = (G_ABC_Lehmann(A3, B3, C3, tau_arr_Lehmann, tau_arr_Lehmann, H3, β3, n_max3, n_max3))\n",
    "\n",
    "for numpoints in 5:5:40\n",
    "    delta = (β-0)/numpoints\n",
    "    println(delta)\n",
    "    # make delta tau smaller!\n",
    "    tau_arr = collect(0.:delta:β-delta) \n",
    "    println(size(tau_arr))\n",
    "    \n",
    "    #dt = @elapsed begin\n",
    "    #end\n",
    "    #append!(runtime_Lehmann, dt)\n",
    "    \n",
    "    ########################################\n",
    "    \n",
    "    dt = @elapsed begin\n",
    "    transform3_Naive = (G_ABC_transform(A3, B3, C3, tau_arr, tau_arr, H3, β3, space3, n_max3, 0))\n",
    "    end\n",
    "    append!(runtime_Naive, dt)\n",
    "    append!(values_Naive, [transform3_Naive])\n",
    "    print(\"time: \")\n",
    "    println(dt)\n",
    "    flush(stdout)\n",
    "    \n",
    "    #transform_gl = (G_AB_gl_transform(A, B, H, β, space, n_max))\n",
    "    #transform_gl2 = (G_AB_gl_transform(A, B, H, β, space, n_max))\n",
    "    \n",
    "    error_Naive = maximum(abs.((lehmann3)-(transform3_Naive)))\n",
    "    \n",
    "    append!(numpointss_Naive, 2*numpoints^2)\n",
    "    append!(errors_Naive, error_Naive)\n",
    "    #println(error_Naive)\n",
    "end\n"
   ]
  },
  {
   "cell_type": "code",
   "execution_count": 55,
   "metadata": {},
   "outputs": [
    {
     "name": "stdout",
     "output_type": "stream",
     "text": [
      "[-0.020978330452514477; 2.2427792877748405; -0.020978330452514477;;]\n",
      "[-0.022244898504011457; 2.233112465679695; -0.022244898504011457;;]\n",
      "[-0.020980925480429985; 2.242769358966501; -0.020980925480429985;;]\n",
      "[-0.020978331433116504; 2.242779285273288; -0.020978331433116504;;]\n",
      "[-0.020978330452826294; 2.2427792877741783; -0.020978330452826294;;]\n",
      "[-0.020978330452518498; 2.242779287774807; -0.020978330452518498;;]\n",
      "[-0.020978330452517582; 2.2427792877748116; -0.020978330452517582;;]\n",
      "[-0.020978330452515626; 2.242779287774813; -0.020978330452515626;;]\n"
     ]
    }
   ],
   "source": [
    "numpointss_SimplexSplit = []\n",
    "errors_SimplexSplit = []\n",
    "runtime_SimplexSplit = []\n",
    "values_SimplexSplit = []\n",
    "println(real(lehmann3))\n",
    "for numpoints in 7:5:40\n",
    "    \n",
    "    dt = @elapsed begin\n",
    "    transform_SimplexSplit = G_ABC_gl_transform_simplex(A3, B3, C3, H3, β3, space3, n_max3, 0, numpoints)\n",
    "    end\n",
    "    append!(runtime_SimplexSplit, dt)\n",
    "    append!(values_SimplexSplit, [transform_SimplexSplit])\n",
    "    println(real(transform_SimplexSplit))\n",
    "    error_SimplexSplit = maximum(abs.((lehmann3)-(transform_SimplexSplit)))\n",
    "    \n",
    "    append!(numpointss_SimplexSplit, 2*numpoints^2)\n",
    "    append!(errors_SimplexSplit, error_SimplexSplit)\n",
    "end"
   ]
  },
  {
   "cell_type": "code",
   "execution_count": 40,
   "metadata": {},
   "outputs": [
    {
     "name": "stdout",
     "output_type": "stream",
     "text": [
      "length: 10\n",
      "ONLY EVEN NPOINTS, INCREASING +1 TO npoints = 11\n",
      "length: 56\n",
      "length: 120\n",
      "ONLY EVEN NPOINTS, INCREASING +1 TO npoints = 21\n",
      "length: 286\n",
      "length: 560\n",
      "ONLY EVEN NPOINTS, INCREASING +1 TO npoints = 31\n",
      "length: 816\n",
      "length: 1330\n"
     ]
    }
   ],
   "source": [
    "numpointss_SimplexSplitGM = []\n",
    "errors_SimplexSplitGM = []\n",
    "runtime_SimplexSplitGM = []\n",
    "values_SimplexSplitGM = []\n",
    "\n",
    "for numpoints in [5, 10, 15, 20, 27, 30, 37]\n",
    "    \n",
    "    dt = @elapsed begin\n",
    "    transform_SimplexSplitGM, npointsreal = G_ABC_gm_transform_simplex(A3, B3, C3, H3, β3, space3, n_max3, 0, numpoints)\n",
    "    #transform_SimplexSplitGM = cutOffResonanceGR(real(transform_SimplexSplitGM), 2) .+ \n",
    "    #                        im.*cutOffResonanceGR(imag(transform_SimplexSplitGM), 2)\n",
    "    end\n",
    "    append!(runtime_SimplexSplitGM, dt)\n",
    "    append!(values_SimplexSplitGM, [transform_SimplexSplitGM])\n",
    "    \n",
    "    error_SimplexSplitGM = maximum(abs.((lehmann3)-(transform_SimplexSplitGM)))\n",
    "    \n",
    "    append!(numpointss_SimplexSplitGM, npointsreal) # TODO\n",
    "    append!(errors_SimplexSplitGM, error_SimplexSplitGM)\n",
    "end"
   ]
  },
  {
   "cell_type": "code",
   "execution_count": 68,
   "metadata": {},
   "outputs": [
    {
     "data": {
      "image/png": "[encoded data removed]"
     },
     "execution_count": 68,
     "metadata": {},
     "output_type": "execute_result"
    }
   ],
   "source": [
    "# Error\n",
    "plot([numpointss_Naive],[errors_Naive],\n",
    "    title = \"Error - 3-point Transform AIM\", \n",
    "    label = [\"naive\" \"Simplex Split\" \"Gauss-Legendre\"], \n",
    "    yaxis =:log,\n",
    "    lw = 1, xlabel = L\"N\", ylabel = \"max \"*L\"||\\Delta\\tilde{G}(iω_n)||\", fmt = :png)\n",
    "plot!([numpointss_SimplexSplit],[errors_SimplexSplit],\n",
    "    label = [\"SimplexQuad\" \"Gauss-Legendre\"], \n",
    "    yaxis =:log,\n",
    "    lw = 1, xlabel = L\"N\", ylabel = \"max \"*L\"||\\Delta\\tilde{G}(iω_n)||\", fmt = :png)\n",
    "plot!([numpointss_SimplexSplitGM],[errors_SimplexSplitGM],\n",
    "    label = [\"Grundmann Möller\" \"Gauss-Legendre\"], \n",
    "    yaxis =:log,\n",
    "    legend=:bottomright,\n",
    "    lw = 1, xlabel = L\"N\", ylabel = \"max \"*L\"||\\Delta\\tilde{G}(iω_n)||\", fmt = :png)\n",
    "plot!([numpointss_Naive],[ones(length(numpointss_Naive)).*eps()],\n",
    "    label = [\"Machine precision\" \"Gauss-Legendre\"], \n",
    "    yaxis =:log,\n",
    "    legend=:right,\n",
    "    color=:black, linestyle=:dash,\n",
    "    lw = 1, xlabel =  L\"N\", ylabel = \"max \"*L\"||\\Delta\\tilde{G}(iω_\\nu, iω_\\mu)||\", fmt = :png)\n"
   ]
  },
  {
   "cell_type": "code",
   "execution_count": 69,
   "metadata": {},
   "outputs": [
    {
     "data": {
      "image/png": "[encoded data removed]"
     },
     "execution_count": 69,
     "metadata": {},
     "output_type": "execute_result"
    }
   ],
   "source": [
    "plot([runtime_Naive],[errors_Naive],\n",
    "    title = \"Performance - 3-point Transform AIM\", \n",
    "    label = [\"naive\" \"Gauss-Konrod adaptive\" \"Gauss-Legendre\"], \n",
    "    yaxis =:log,\n",
    "    xaxis =:log,\n",
    "    lw = 1, xlabel =  \"Runtime \"*L\"t\"*\" (s)\", ylabel = \"max \"*L\"||\\Delta\\tilde{G}(iω_\\nu, iω_\\mu)||\", fmt = :png)\n",
    "plot!([runtime_SimplexSplit],[errors_SimplexSplit],\n",
    "    label = [\"SimplexQuad\" \"Gauss-Legendre\"], \n",
    "    yaxis =:log,\n",
    "    xaxis =:log,\n",
    "    lw = 1, xlabel =  \"Runtime \"*L\"t\"*\" (s)\", ylabel = \"max \"*L\"||\\Delta\\tilde{G}(iω_\\nu, iω_\\mu)||\", fmt = :png)\n",
    "plot!([runtime_SimplexSplitGM],[errors_SimplexSplitGM],\n",
    "    label = [\"Grundmann Möller\" \"Gauss-Legendre\"], \n",
    "    yaxis =:log,\n",
    "    xaxis =:log,\n",
    "    legend=:bottomright,\n",
    "    lw = 1, xlabel =  \"Runtime \"*L\"t\"*\" (s)\", ylabel = \"max \"*L\"||\\Delta\\tilde{G}(iω_\\nu, iω_\\mu)||\", fmt = :png)\n",
    "\n",
    "\n",
    "\n",
    "# e(Runtime)"
   ]
  },
  {
   "cell_type": "code",
   "execution_count": 74,
   "metadata": {},
   "outputs": [
    {
     "data": {
      "image/png": "[encoded data removed]"
     },
     "execution_count": 74,
     "metadata": {},
     "output_type": "execute_result"
    }
   ],
   "source": [
    "plot([numpointss_Naive],[runtime_Naive],\n",
    "    title = \"Runtime - 3-point Transform AIM\", \n",
    "    label = [\"naive\" \"Gauss-Konrod adaptive\" \"Gauss-Legendre\"], \n",
    "    yaxis =:log,\n",
    "    lw = 1, xlabel = L\"N\", ylabel = \"Runtime \"*L\"t\"*\" (s)\", fmt = :png)\n",
    "plot!([numpointss_SimplexSplit],[runtime_SimplexSplit],\n",
    "    label = [\"SimplexQuad\" \"Gauss-Legendre\"], \n",
    "    yaxis =:log,\n",
    "    lw = 1, xlabel = L\"N\", ylabel = \"Runtime \"*L\"t\"*\" (s)\", fmt = :png)\n",
    "plot!([numpointss_SimplexSplitGM],[runtime_SimplexSplitGM],\n",
    "    label = [\"Grundmann Möller\" \"Gauss-Legendre\"], \n",
    "    yaxis =:log,\n",
    "    legend=:right,\n",
    "    lw = 1, xlabel = L\"N\", ylabel = \"Runtime \"*L\"t\"*\" (s)\", fmt = :png)"
   ]
  },
  {
   "cell_type": "code",
   "execution_count": 71,
   "metadata": {},
   "outputs": [
    {
     "name": "stdout",
     "output_type": "stream",
     "text": [
      "number of points naive: 1250\n",
      "number of points SimplexQuad: 968\n",
      "number of points Grundmann Möller: 1120\n"
     ]
    },
    {
     "data": {
      "image/png": "[encoded data removed]"
     },
     "execution_count": 71,
     "metadata": {},
     "output_type": "execute_result"
    }
   ],
   "source": [
    "index_Naive = 5\n",
    "index_SimplexSplit = 4\n",
    "index_SimplexSplitGM = 5\n",
    "\n",
    "x_cut = Integer(round(n_max))\n",
    "print(\"number of points naive: \"); println(numpointss_Naive[index_Naive])\n",
    "print(\"number of points SimplexQuad: \"); println(numpointss_SimplexSplit[index_SimplexSplit])\n",
    "print(\"number of points Grundmann Möller: \"); println(numpointss_SimplexSplitGM[index_SimplexSplitGM])\n",
    "\n",
    "plot(ω3,[abs.((lehmann3)[:,:]-(values_Naive[index_Naive])[:,:]), \n",
    "         abs.((lehmann3)[:,:]-(values_SimplexSplit[index_SimplexSplit])[:,:]),\n",
    "         abs.((lehmann3)[:,:]-(values_SimplexSplitGM[index_SimplexSplitGM])[:,:])],\n",
    "    title = \"Difference - 3-point Transform AIM\", \n",
    "    label = [\"naive\" \"SimplexQuad\" \"Grundmann Moeller\"], \n",
    "    yaxis =:log,\n",
    "    legend=:right,\n",
    "    lw = 1, xlabel = L\"ω_\\nu\", ylabel = L\"|\\Delta\\tilde{G}(iω_\\nu, 0)|\", fmt = :png) \n"
   ]
  },
  {
   "cell_type": "code",
   "execution_count": 36,
   "metadata": {},
   "outputs": [
    {
     "name": "stdout",
     "output_type": "stream",
     "text": [
      "21.26863124810444\n",
      "3.9968028886505635e-15\n",
      "16.783072672554724\n",
      "4.579669976578771e-15\n",
      "2.242779287774809\n",
      "0.10184733322049094\n"
     ]
    },
    {
     "data": {
      "image/png": "[encoded data removed]"
     },
     "execution_count": 36,
     "metadata": {},
     "output_type": "execute_result"
    }
   ],
   "source": [
    "h1_r = showMeTheR(R1_omega, \"R1 real\")\n",
    "h1_i = showMeTheI(R1_omega, \"R1 imag\")\n",
    "h4_r = showMeTheR(R4_omega, \"R4 real\")\n",
    "h4_i = showMeTheI(R4_omega, \"R4 imag\")\n",
    "h7_r = showMeTheR(R7_omega, \"R7 real\")\n",
    "h7_i = showMeTheI(R7_omega, \"R7 imag\")\n",
    "\n",
    "plot(h1_r,h1_i,h4_r,h4_i,h7_r,h7_i,layout = (3,2), size = (1000*7/10, 1200*7/10))"
   ]
  },
  {
   "cell_type": "code",
   "execution_count": 37,
   "metadata": {},
   "outputs": [
    {
     "name": "stdout",
     "output_type": "stream",
     "text": [
      "[-0.020978330452514477; 2.2427792877748405; -0.020978330452514477;;]\n",
      "[-0.010775038674000238; 2.338704975766986; -0.010775038674000238;;]\n",
      "[-0.020978330452515626; 2.242779287774813; -0.020978330452515626;;]\n",
      "[-0.020978350244947777; 2.2427792385361434; -0.020978350244947777;;]\n"
     ]
    }
   ],
   "source": [
    "println(real(lehmann3))\n",
    "println(real(values_Naive[8]))\n",
    "println(real(values_SimplexSplit[7]))\n",
    "println(real(values_SimplexSplitGM[7]))"
   ]
  },
  {
   "cell_type": "code",
   "execution_count": null,
   "metadata": {},
   "outputs": [],
   "source": []
  }
 ],
 "metadata": {
  "kernelspec": {
   "display_name": "Julia 1.7.2",
   "language": "julia",
   "name": "julia-1.7"
  },
  "language_info": {
   "file_extension": ".jl",
   "mimetype": "application/julia",
   "name": "julia",
   "version": "1.7.2"
  }
 },
 "nbformat": 4,
 "nbformat_minor": 4
}
