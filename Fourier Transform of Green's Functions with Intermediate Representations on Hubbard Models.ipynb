{
 "cells": [
  {
   "cell_type": "markdown",
   "id": "68cad80a",
   "metadata": {},
   "source": [
    "# Abstract\n",
    "\n",
    "(Just a sketch) Green's functions and their fourier transform are very useful entities, due to being directly measurable as physical quantities like the spectral function or the susceptibilty and being able to model complex many-body interactions using two-, three- and four-point functions. Due to these calculations being very costly, an intermediate representation of the Green's functions between matsubara frequency and time domain was developed. An advantage of this is a fast and efficient way to retrieve both function variants. This work compares several simpler approaches to geth the Fourier transform to the one using intermediate representations for two- and three-point functions. Afterwards, it is applied in a practical example.\n"
   ]
  },
  {
   "cell_type": "markdown",
   "id": "9e3e52db",
   "metadata": {},
   "source": [
    "# Introduction\n",
    "\n",
    "The code for this work is written in Julia, using the library Fermions.jl. it models concepts for the second quantization like Fock-spaces, operators, solvers and much more for fermionic particles. First, four basic libraries are imported."
   ]
  },
  {
   "cell_type": "code",
   "execution_count": null,
   "id": "8a4c31c2",
   "metadata": {},
   "outputs": [],
   "source": [
    "using Fermions\n",
    "using LinearAlgebra\n",
    "using Fermions.Aux\n",
    "using Plots"
   ]
  },
  {
   "cell_type": "markdown",
   "id": "ed641efb",
   "metadata": {},
   "source": [
    "## Hubbard model\n",
    "\n",
    "The hubbard model (CITATION), while being a strongly simplified concept of modelling the atoms in a solid body as nodes and the electrons having the ability to hop between those nodes and punishing double-occupied states with energy costs, is still not always solvable but yields good results if aspects apart from locality are neglected.\n",
    "\n",
    "In the current state, the function Hubbard() exists to connect the defined Fock-space with said parameters and connect them to create the hamiltonian H to represent a (in this case) two-site hubbard model. Note that the Fock-space is represented by four bits, encoding two sites with two different possibilities of spin."
   ]
  },
  {
   "cell_type": "code",
   "execution_count": null,
   "id": "83e1a4be",
   "metadata": {},
   "outputs": [],
   "source": [
    "# 2-site hubbard\n",
    "space = FockSpace(4)\n",
    "c = annihilators(space)\n",
    "U = 3.\n",
    "t = -1.0\n",
    "μ = 1.5\n",
    "H = Hubbard(space,U,t,μ)\n"
   ]
  },
  {
   "cell_type": "markdown",
   "id": "ded48741",
   "metadata": {},
   "source": [
    "## Green's Functions\n",
    "\n",
    "We now want to compute the two-point or one-particle Green's function for this hubbard model. We define the temperature β and the operators A and B. Note that Fermions.jl also has functions for those existing; G_AB() and G_AB_Lehmann(). The former one being a computationally feasible method using time evolution using Krylov subspaces (CITATION), while the latter one uses the exact analytical expression. Both are computed in imaginary time. The naming convention of AB after the underline shows that the Green's function depends on the two operators A and B, which are in this case defined as creator and annihilator. The non-Lehmann function takes as input an additional parameter δ, which describes to quality of the approximation by limiting how many eigensatates are truncated."
   ]
  },
  {
   "cell_type": "code",
   "execution_count": null,
   "id": "792a0e75",
   "metadata": {},
   "outputs": [],
   "source": [
    "# We already have functions for Green: G_AB() & G_AB_Lehmann()\n",
    "β = 10.\n",
    "τ_arr = collect(0.:0.01:β-0.01)\n",
    "\n",
    "A = Operator(space)\n",
    "A += 1.0 * c[1]'\n",
    "B = Operator(space)\n",
    "B += 1.0 * c[1]\n",
    "\n",
    "get_complex(x) = real(x)\n",
    "\n",
    "G_31_Lehmann = real(G_AB_Lehmann(A,B,τ_arr,H,β))\n",
    "\n",
    "G_31_00 = real(G_AB(A,B,τ_arr,H,β,space,0.0))\n",
    "G_31_000000001 = real(G_AB(A,B,τ_arr,H,β,space,0.00000001))\n",
    "G_31_000001 = real(G_AB(A,B,τ_arr,H,β,space,0.00001))\n",
    "G_31_0001 = real(G_AB(A,B,τ_arr,H,β,space,0.001))\n",
    "G_31_05 = real(G_AB(A,B,τ_arr,H,β,space,0.5))\n",
    "plot(τ_arr,[G_31_Lehmann,G_31_00,G_31_000000001,G_31_000001,G_31_0001,G_31_05],\n",
    "    title = \"Non-Local Green's Function G_31\", \n",
    "    label = [\"Lehmann\" \"δ=0.0\" \"δ=10^{-8}\" \"δ=10^{-5}\" \"δ=10^{-3}\" \"δ=0.5\"], \n",
    "    lw = 1, xlabel = \"τ\", ylabel = \"G(τ)\", fmt = :png)\n"
   ]
  },
  {
   "cell_type": "markdown",
   "id": "1bf30ffa",
   "metadata": {},
   "source": [
    "Several different versions of the two-point Green's function are plotted here."
   ]
  },
  {
   "cell_type": "markdown",
   "id": "1a0a7f0c",
   "metadata": {},
   "source": [
    "# Fourier transform of the two-point Green's function\n",
    "\n",
    "Now, we want to look at different methods to retrieve the Green's function in frequency space. For this, we first define the number of Matsubara frequencies we want to look at, and compute them according to their definition. Note that for fermions, they are uneven multiples of π/β."
   ]
  },
  {
   "cell_type": "code",
   "execution_count": null,
   "id": "4d7f40dd",
   "metadata": {},
   "outputs": [],
   "source": [
    "n_max = 50\n",
    "n = collect(-n_max:1:n_max)\n",
    "ω = (2n.+1)*π/β"
   ]
  },
  {
   "cell_type": "markdown",
   "id": "c2263679",
   "metadata": {},
   "source": [
    "## Integral as a Sum\n",
    "\n",
    "The first approach to get to the frequency domain is quite naive; the Fourier inteegral is approximated as a sum. For this, the imaginary time $\\tau$ is spliced and inputted as an array, and then, the terms are summed up. This is done in the code via matrix multiplication."
   ]
  },
  {
   "cell_type": "markdown",
   "id": "796da0ed",
   "metadata": {},
   "source": [
    "Goal 1: Integral as a Sum\n",
    "\n",
    "\\begin{align}\n",
    "    G(i \\omega_n) \\approx \\sum_{j} e^{i \\omega_n \\tau_j} G(\\tau_j) * \\Delta \\tau\n",
    "\\end{align}"
   ]
  },
  {
   "cell_type": "code",
   "execution_count": null,
   "id": "7693f407",
   "metadata": {},
   "outputs": [],
   "source": [
    "# goal 1\n",
    "function G_AB_transform(A, B, τ_arr, H, β, space, n_max)\n",
    "    n = collect(-n_max:1:n_max)\n",
    "    ω = (2n.+1)*π/β\n",
    "    Δτ = (β/size(τ_arr)[1])\n",
    "    \n",
    "    matrix = ℯ.^(im*ω*τ_arr')\n",
    "    return Δτ*matrix*G_AB(A,B,τ_arr,H,β,space,0.0)\n",
    "end"
   ]
  },
  {
   "cell_type": "markdown",
   "id": "1dc170b3",
   "metadata": {},
   "source": [
    "An example imaginary time array is created in 0.01 steps and the imaginary part of the Green's function is plotted."
   ]
  },
  {
   "cell_type": "code",
   "execution_count": null,
   "id": "02466fa9",
   "metadata": {},
   "outputs": [],
   "source": [
    "# make delta tau smaller!\n",
    "τ_arr = collect(0.:0.01:β-0.01)\n",
    "\n",
    "\n",
    "transform = imag(G_AB_transform(A, B, τ_arr, H, β, space, n_max))\n",
    "\n",
    "plot(ω,transform,\n",
    "    title = \"Transform\", \n",
    "    label = [\"transform\"], \n",
    "    lw = 1, xlabel = \"ω_n\", ylabel = \"G(iω_n)\", fmt = :png)"
   ]
  },
  {
   "cell_type": "code",
   "execution_count": null,
   "id": "aba9c96f",
   "metadata": {
    "scrolled": false
   },
   "outputs": [],
   "source": [
    "#import Arpack\n",
    "#ϵ, B = Arpack.eigs(H, nev=2, which=:SR)\n",
    "#Array(saveH)"
   ]
  },
  {
   "cell_type": "markdown",
   "id": "845ba39b",
   "metadata": {},
   "source": [
    "## Integration of the Lehmann representation\n",
    "\n",
    "As a next step, we want to analytically Fourier-transform the Lehmann representation of the one-particle Green's function. (INSERT OUR CALCULATIONS HERE)\n",
    "\\begin{align}\n",
    "G_{AB}(\\tau) &= -\\frac{1}{Z} \\sum_n <n| e^{-(\\beta - \\tau) \\epsilon_n} \\hat A e^{-\\tau \\hat H} \\hat B |n> = \\\\\n",
    "&= -\\frac{1}{Z} \\sum_n e^{-\\beta \\epsilon_n} \\sum_m e^{-\\tau (\\epsilon_m - \\epsilon_n)} <n|A|m><m|B|n> = \\\\\n",
    "&= -\\frac{1}{Z} \\sum_n G_{AB}^{(n)}(\\tau) \\\\\n",
    "&\\textrm{with } G_{AB}^{(n)} = e^{-\\beta \\epsilon_n} \\sum_m e^{-\\tau (\\epsilon_m - \\epsilon_n)} <n|A|m><m|B|n>\n",
    "\\end{align}\n",
    "In contrast to the G_AB() function, the Lehmann function uses all eigenstates and is exact, but needs much more computational time. In the low temperature limit both functions will yield the same result. Also for $\\delta = 0$ both functions should yield the same results (but only for small Fock spaces, because some eigenvalues and -states will be truncated automatically - see LinearAlgebra.eigen() function in eigen.jl). The G_AB_Lehmann() function uses the internal G_AB_n_Lehmann() ($G_{AB}^{(n)}$) function for computing. Moreover, it also shifts the energy spectrum. This function also works for arbitrary fermionic or bosonic operators.\n",
    "\n",
    "\n",
    "\n",
    "                                                "
   ]
  },
  {
   "cell_type": "markdown",
   "id": "9ce09a23",
   "metadata": {},
   "source": [
    "This is the code of Fermions.jl to compute the Lehmann representation."
   ]
  },
  {
   "cell_type": "code",
   "execution_count": null,
   "id": "5f67b963",
   "metadata": {},
   "outputs": [],
   "source": [
    "function G_AB_n_Lehmann1(Ψn::Array{Complex{T},2},ϵ::Array{T,1},ϵ_n::Real, A::Operator,\n",
    "    B::Operator,n::Array{Complex{T},1}, τ::Array{T,1},β::Real) where T <: Real\n",
    "    val_arr = zeros(length(τ)) .+ 0im\n",
    "    for i in 1:length(τ)\n",
    "        for m in 1:length(ϵ)\n",
    "            val_arr[i] += exp(-τ[i]*(ϵ[m]-ϵ_n)) * dot(n,A*Ψn[:,m])*dot(Ψn[:,m],B*n)\n",
    "        end\n",
    "        val_arr[i] *= exp(-β*ϵ_n)\n",
    "    end\n",
    "    return val_arr\n",
    "end\n",
    "\n",
    "function G_AB_Lehmann1(A::Operator, B::Operator, τ::Array{T,1},\n",
    "    H::Operator,β::Real) where T <: Real\n",
    "    H_eigvec = eigvecs(Array(H)) .+ 0im\n",
    "    H_eigene = eigvals(Array(H))\n",
    "    H_eigene = H_eigene .- H_eigene[1] #shift spectrum\n",
    "    Z = 0\n",
    "    result = zeros(length(τ)) .+ 0im\n",
    "    for i in 1:length(H_eigene)\n",
    "        if i == 1\n",
    "            result = G_AB_n_Lehmann1(H_eigvec,H_eigene,H_eigene[i],A,B,H_eigvec[:,i],τ,β)\n",
    "        else\n",
    "            result = result .+ G_AB_n_Lehmann1(H_eigvec,H_eigene,H_eigene[i],A,B,H_eigvec[:,i],τ,β)\n",
    "        end\n",
    "        Z += exp(-β*H_eigene[i]) #dot(n[:,i],n[:,i])*exp(-β*ϵ_n[i]) normed eigenvectors\n",
    "    end\n",
    "    result = -1.0 .* result ./ Z\n",
    "    return result\n",
    "end"
   ]
  },
  {
   "cell_type": "markdown",
   "id": "531d909d",
   "metadata": {},
   "source": [
    "This is our adapted code to compute the Fourier-transformed Lehmann representation."
   ]
  },
  {
   "cell_type": "code",
   "execution_count": null,
   "id": "911d87c4",
   "metadata": {},
   "outputs": [],
   "source": [
    "function G_AB_n_Lehmann_transform(Ψn::Array{Complex{T},2},ϵ::Array{T,1},ϵ_n::Real, A::Operator,\n",
    "    B::Operator,n::Array{Complex{T},1}, ω::Array{T,1},β::Real) where T <: Real\n",
    "    val_arr = zeros(length(ω)) .+ 0im\n",
    "    for i in 1:length(ω)\n",
    "        for m in 1:length(ϵ)\n",
    "            val_arr[i] += (exp(-β*ϵ[m])+exp(-β*ϵ_n))/(ϵ[m]-ϵ_n-im*ω[i]) * dot(n,A*Ψn[:,m])*dot(Ψn[:,m],B*n)\n",
    "        end\n",
    "    end\n",
    "    return val_arr\n",
    "end\n",
    "\n",
    "function G_AB_Lehmann_transform(A::Operator, B::Operator, τ::Array{T,1},\n",
    "    H::Operator,β::Real, n_max) where T <: Real\n",
    "    \n",
    "    n = collect(-n_max:1:n_max)\n",
    "    ω = (2n.+1)*π/β\n",
    "    \n",
    "    H_eigvec = eigvecs(Array(H)) .+ 0im\n",
    "    H_eigene = eigvals(Array(H))\n",
    "    H_eigene = H_eigene .- H_eigene[1] #shift spectrum\n",
    "    Z = 0\n",
    "    result = zeros(length(τ)) .+ 0im\n",
    "    for i in 1:length(H_eigene)\n",
    "        if i == 1\n",
    "            result = G_AB_n_Lehmann_transform(H_eigvec,H_eigene,H_eigene[i],A,B,H_eigvec[:,i],ω,β)\n",
    "        else\n",
    "            result = result .+ G_AB_n_Lehmann_transform(H_eigvec,H_eigene,H_eigene[i],A,B,H_eigvec[:,i],ω,β)\n",
    "        end\n",
    "        Z += exp(-β*H_eigene[i]) #dot(n[:,i],n[:,i])*exp(-β*ϵ_n[i]) normed eigenvectors\n",
    "    end\n",
    "    result = -1.0 .* result ./ Z\n",
    "    return result\n",
    "end"
   ]
  },
  {
   "cell_type": "code",
   "execution_count": null,
   "id": "e6cbb0af",
   "metadata": {},
   "outputs": [],
   "source": [
    "transform_Lehmann = imag(G_AB_Lehmann_transform(A, B, τ_arr, H, β, n_max))\n",
    "\n",
    "plot(ω,transform_Lehmann,\n",
    "    title = \"Transform\", \n",
    "    label = [\"transform\"], \n",
    "    lw = 1, xlabel = \"ω_n\", ylabel = \"G(iω_n)\", fmt = :png)"
   ]
  },
  {
   "cell_type": "markdown",
   "id": "4e17c964",
   "metadata": {},
   "source": [
    "This is the exact plot of the imaginary part of the transformed Lehmann function. "
   ]
  },
  {
   "cell_type": "code",
   "execution_count": null,
   "id": "13d390af",
   "metadata": {},
   "outputs": [],
   "source": [
    "plot(ω,[transform-transform_Lehmann],\n",
    "    title = \"Transform\", \n",
    "    label = [\"difference\"], \n",
    "    lw = 1, xlabel = \"ω_n\", ylabel = \"G(iω_n)\", fmt = :png)"
   ]
  },
  {
   "cell_type": "markdown",
   "id": "e3333400",
   "metadata": {},
   "source": [
    "Note that the difference or error between the naive sum and the exact solution increases linearly.\n"
   ]
  },
  {
   "cell_type": "markdown",
   "id": "3c997f2d",
   "metadata": {},
   "source": [
    "## Weighted Integration via Gauss-Legendre\n",
    "\n",
    "A smarter way to approximate the Fourier integral as a sum is the use of an additional weight factor of each sum term. (CITATION)"
   ]
  },
  {
   "cell_type": "markdown",
   "id": "7d12189d",
   "metadata": {},
   "source": [
    "Goal 2: Integral with Gauss-Legendre\n",
    "\n",
    "\\begin{align}\n",
    "    G(i \\omega_n) \\approx \\sum_{j} \\omega_j e^{i \\omega_n \\tau_j} G(\\tau_j) \\Delta \\tau\n",
    "\\end{align}"
   ]
  },
  {
   "cell_type": "code",
   "execution_count": null,
   "id": "0bbe459d",
   "metadata": {},
   "outputs": [],
   "source": [
    "using QuadGK\n",
    "\n",
    "function G_AB_gl_part(A, B, H, β, space, ω_j)\n",
    "    f(x)=(ℯ.^(im*ω_j*x)*(G_AB(A,B,[x],H,β,space,0.0)))\n",
    "    return quadgk(f, 0, β, rtol=1e-2)\n",
    "end\n",
    "\n",
    "function G_AB_gl_transform(A, B, H, β, space, n_max)\n",
    "    n = collect(-n_max:1:n_max)\n",
    "    ω = (2n.+1)*π/β\n",
    "    #Δτ = (β/size(τ_arr)[1])\n",
    "    #matrix = ℯ.^(im*ω*τ_arr')\n",
    "    #return Δτ*matrix*G_AB(A,B,τ_arr,H,β,space,0.0)\n",
    "    result = []\n",
    "    for ω_j in ω\n",
    "        I, w = G_AB_gl_part(A, B, H, β, space, ω_j)\n",
    "        append!(result,I)\n",
    "    end\n",
    "    return result\n",
    "end\n",
    "\n",
    "#integral, err = quadgk(x -> exp(-x^2), 0, 1, rtol=1e-8)\n",
    "\n",
    "\n",
    "    "
   ]
  },
  {
   "cell_type": "code",
   "execution_count": null,
   "id": "f5b443f0",
   "metadata": {
    "scrolled": false
   },
   "outputs": [],
   "source": [
    "\n",
    "transform_gl = imag(G_AB_gl_transform(A, B, H, β, space, n_max))\n",
    "\n",
    "plot(ω,transform_gl,\n",
    "    title = \"Transform\", \n",
    "    label = [\"transform\"], \n",
    "    lw = 1, xlabel = \"ω_n\", ylabel = \"G(iω_n)\", fmt = :png)"
   ]
  },
  {
   "cell_type": "code",
   "execution_count": null,
   "id": "68dd7f92",
   "metadata": {},
   "outputs": [],
   "source": [
    "plot(ω,[transform_gl-transform_Lehmann],\n",
    "    title = \"Transform\", \n",
    "    label = [\"difference\"], \n",
    "    lw = 1, xlabel = \"ω_n\", ylabel = \"G(iω_n)\", fmt = :png)"
   ]
  },
  {
   "cell_type": "code",
   "execution_count": null,
   "id": "38a7171e",
   "metadata": {},
   "outputs": [],
   "source": [
    "using FastGaussQuadrature\n",
    "\n",
    "#(b-a)/2*x)+(a+b)/2\n",
    "#(b-a)/2*\n",
    "\n",
    "function G_AB_gl2_part(A, B, H, β, space, ω_j)\n",
    "    a = 0\n",
    "    b = β\n",
    "    x, w = gausslegendre(50)\n",
    "    f(x)=(ℯ.^(im*ω_j*x)*(G_AB(A,B,[x],H,β,space,0.0)))\n",
    "    g(x)=(b-a)/2*f(((b-a)/2*x)+(a+b)/2)\n",
    "    return dot(w, g.(x))\n",
    "end\n",
    "\n",
    "function G_AB_gl2_transform(A, B, H, β, space, n_max)\n",
    "    n = collect(-n_max:1:n_max)\n",
    "    ω = (2n.+1)*π/β\n",
    "    #Δτ = (β/size(τ_arr)[1])\n",
    "    #matrix = ℯ.^(im*ω*τ_arr')\n",
    "    #return Δτ*matrix*G_AB(A,B,τ_arr,H,β,space,0.0)\n",
    "    result = []\n",
    "    for ω_j in ω\n",
    "        I = G_AB_gl2_part(A, B, H, β, space, ω_j)\n",
    "        append!(result,I)\n",
    "    end\n",
    "    return result\n",
    "end\n",
    "\n",
    "#x, w = gausslegendre(3);\n",
    "#x^4;\n",
    "#I = dot(w, f.(x));\n"
   ]
  },
  {
   "cell_type": "code",
   "execution_count": null,
   "id": "655e3a4f",
   "metadata": {},
   "outputs": [],
   "source": [
    "\n",
    "transform_gl2 = imag(G_AB_gl2_transform(A, B, H, β, space, n_max))\n",
    "\n",
    "plot(ω,transform_gl2,\n",
    "    title = \"Transform\", \n",
    "    label = [\"transform\"], \n",
    "    lw = 1, xlabel = \"ω_n\", ylabel = \"G(iω_n)\", fmt = :png)"
   ]
  },
  {
   "cell_type": "code",
   "execution_count": null,
   "id": "949078a4",
   "metadata": {},
   "outputs": [],
   "source": []
  },
  {
   "cell_type": "markdown",
   "id": "ed9fb425",
   "metadata": {},
   "source": [
    "## Intermediate Representation\n",
    "\n",
    "Now we come to intermediate representations. (CITATION)"
   ]
  },
  {
   "cell_type": "markdown",
   "id": "c87a7b6e",
   "metadata": {},
   "source": [
    "Goal 3: IR\n",
    "\n",
    "Before:\n",
    "\n",
    "\\begin{align}\n",
    "    G(i \\omega_n) \\approx \\sum_{j} \\omega_j e^{i \\omega_n \\tau_j} G(\\tau_j)\n",
    "\\end{align}\n",
    "\n",
    "After:\n",
    "\n",
    "\\begin{align}\n",
    "G(\\tau_j) \\text{ and } \\hat{G}(\\omega_n) \\text{ share } g_e \n",
    "\\end{align}\n",
    "\n",
    "\\begin{align}\n",
    "g_l = \\arg\\min_{g} \\sum_{j} | G(\\tau_j) - \\sum_{l} g_l U_l(\\tau_j)  | ^2\n",
    "\\end{align}\n",
    "\n",
    "something like lstsq(F,G), G is a vector, F a matrix\n",
    "\n",
    "\n",
    "\n",
    "\n"
   ]
  },
  {
   "cell_type": "code",
   "execution_count": null,
   "id": "2a1dc3cf",
   "metadata": {},
   "outputs": [],
   "source": [
    "G = G_AB(A,B,τ_arr,H,β,space,0.0)\n",
    "\n",
    "using SparseIR\n",
    "\n",
    "function getOmega(n)\n",
    "    return (2n.+1).*π./β\n",
    "end\n",
    "\n",
    "function getN(ω)\n",
    "   return (ω.*β./π.-1)./2 \n",
    "end\n",
    "\n",
    "beta = 10\n",
    "wmax = 20\n",
    "eps = 1e-7\n",
    "\n",
    "basis_f = FiniteTempBasis(fermion, beta, wmax, eps)\n",
    "#basis_b = FiniteTempBasis(boson, beta, wmax, eps)\n",
    "#basis = FiniteTempBasis(\"F\", beta, wmax, eps=1e-10)\n",
    "smplt = TauSampling(basis_f)\n",
    "pointst = smplt.sampling_points\n",
    "smplm = MatsubaraSampling(basis_f)\n",
    "pointsm = smplm.sampling_points\n",
    "plot(τ_arr[1:1000],basis_f.u[0](τ_arr[1:1000]),\n",
    "    title = \"U_l\", \n",
    "    label = [\"U_l\"], \n",
    "    lw = 1, xlabel = \"τ\", ylabel = \"U_l(τ)\", fmt = :png)"
   ]
  },
  {
   "cell_type": "code",
   "execution_count": null,
   "id": "cf37f465",
   "metadata": {},
   "outputs": [],
   "source": [
    "#U = basis_f.u(τ_arr[1:1000])\n",
    "pointsm"
   ]
  },
  {
   "cell_type": "code",
   "execution_count": null,
   "id": "7656dcd9",
   "metadata": {},
   "outputs": [],
   "source": []
  },
  {
   "cell_type": "code",
   "execution_count": null,
   "id": "cb604f8f",
   "metadata": {},
   "outputs": [],
   "source": [
    "#(basis_f)\n",
    "#T = typeof(smpl)\n",
    "#for (name, typ) in zip(fieldnames(T), T.types)\n",
    "#    println(\"type of the fieldname $name is $typ\")\n",
    "#end"
   ]
  },
  {
   "cell_type": "code",
   "execution_count": null,
   "id": "e846be1e",
   "metadata": {},
   "outputs": [],
   "source": [
    "#g = (1.0:24.0)# 24 g\n",
    "#U'*g - G\n",
    "\n",
    "\n",
    "U = basis_f.u(pointst)\n",
    "#U = basis_f.u(τ_arr)\n",
    "G = G_AB(A,B,pointst,H,β,space,0.0)\n",
    "#G = G_AB(A,B,τ_arr,H,β,space,0.0)"
   ]
  },
  {
   "cell_type": "code",
   "execution_count": null,
   "id": "8682e7df",
   "metadata": {},
   "outputs": [],
   "source": [
    "# using LsqFit too specific, G(t)-G(e)\n",
    "#G = G_AB(A,B,τ_arr,H,β,space,0.0)\n",
    "\n",
    "#model(t, g) = G_AB(A,B,t,H,β,space,0.0)' - g*basis_f.u(t)\n",
    "# some example data\n",
    "# xdata: independent variables\n",
    "# ydata: dependent variable\n",
    "#xdata = τ_arr\n",
    "#ydata = model(xdata, [1.0 2.0]) + 0.1*randn(length(xdata))\n",
    "#p0 = [0.5, 0.5]\n",
    "#fit = curve_fit(model, xdata, ydata, p0)\n",
    "#param = fit.param\n",
    "#plot([xdata,xdata],[ydata, model(xdata,param)])\n",
    "\n",
    "\n",
    "\n",
    "\n",
    "using IterativeSolvers\n",
    "#minimize ∥Ax−b∥^2\n",
    "#g=lsqr(U', G) #fit von SpareIR\n",
    "g=U'\\G\n",
    "plot(pointst, real((g'*U)'))\n",
    "\n"
   ]
  },
  {
   "cell_type": "code",
   "execution_count": null,
   "id": "0db7f0c4",
   "metadata": {},
   "outputs": [],
   "source": [
    "#2*n_max+1\n",
    "#v = 2*collect(1:1:getN(wmax)).-1\n",
    "#v = collect(-n_max:1:n_max)\n",
    "v = 2n.+1 #important\n",
    "Uhat = basis_f.uhat(pointsm)\n",
    "#Uhat'*g\n",
    "transform_IR = imag(transpose(Uhat)*g)\n",
    "plot(pointsm.*π./β, transform_IR)\n",
    "#ω\n",
    "#pointsm[8:27]\n"
   ]
  },
  {
   "cell_type": "code",
   "execution_count": null,
   "id": "1d1d809e",
   "metadata": {},
   "outputs": [],
   "source": [
    "plot(ω,[transform, transform_Lehmann, transform_gl, transform_gl2],\n",
    "    title = \"Transform\", \n",
    "    label = [\"transform sum\" \"transform Lehmann\" \"transform Gauss adaptive\" \"transform Gauss Legendre\"], \n",
    "    lw = 1, xlabel = \"ω_n\", ylabel = \"G(iω_n)\", fmt = :png)\n",
    "plot!(pointsm[8:27].*π./β, transform_IR[8:27],\n",
    "label = \"transform IR\")"
   ]
  },
  {
   "cell_type": "markdown",
   "id": "a7e2ce2a",
   "metadata": {},
   "source": [
    "In summary, this plot shows all of the five different ways to compute the Green's function. Note that the approximation for some of these functions are made so big that their error behaviour is clearly visible. (TIME EVALUATION?)"
   ]
  },
  {
   "cell_type": "markdown",
   "id": "d9f548e2",
   "metadata": {},
   "source": [
    "Here is my nifty citation {cite}`perez2011python`.\n",
    "\n",
    "```{bibliography}\n",
    "```"
   ]
  },
  {
   "cell_type": "markdown",
   "id": "8060cb47",
   "metadata": {},
   "source": [
    "# Three-Point Propagator Function"
   ]
  },
  {
   "cell_type": "code",
   "execution_count": null,
   "id": "dd839bef",
   "metadata": {},
   "outputs": [],
   "source": [
    "function G_ABC_n_ord_Lehmann1(Ψn::Array{Complex{T},2},ϵ::Array{T,1},ϵ_n::Real, A::Operator,B::Operator,\n",
    "    C::Operator,n::Array{Complex{T},1}, τ1::Array{T,1},τ2::Array{T,1},β::Real) where T <: Real\n",
    "    val_arr = zeros(length(τ1),length(τ2)) .+ 0im\n",
    "    for i in 1:length(τ1), j in 1:length(τ2)\n",
    "        if τ1[i] >= τ2[j]\n",
    "            val_arr[i,j] = 0 + 0im\n",
    "            for m in 1:length(ϵ), s in 1:length(ϵ)\n",
    "                val_arr[i,j] += dot(n,A*Ψn[:,m])*dot(Ψn[:,m],B*Ψn[:,s])*\n",
    "                dot(Ψn[:,s],C*n)*exp(-ϵ[m]*(τ1[i]-τ2[j])-ϵ[s]*τ2[j])\n",
    "            end\n",
    "            val_arr[i,j] *= exp(-ϵ_n*(β-τ1[i]))\n",
    "        else #τ2 > τ1\n",
    "            val_arr[i,j] = 0 + 0im\n",
    "            for m in 1:length(ϵ), s in 1:length(ϵ)\n",
    "                val_arr[i,j] += dot(n,B*Ψn[:,m])*dot(Ψn[:,m],A*Ψn[:,s])*\n",
    "                dot(Ψn[:,s],C*n)*exp(-ϵ[m]*(τ2[j]-τ1[i])-ϵ[s]*τ1[i])\n",
    "            end\n",
    "            if wick_parity(A) * wick_parity(B) == 1 #two fermionic Operators\n",
    "                val_arr[i,j] *= -1.0*exp(-ϵ_n*(β-τ2[j]))\n",
    "            else\n",
    "                val_arr[i,j] *= exp(-ϵ_n*(β-τ2[j]))\n",
    "            end\n",
    "        end\n",
    "    end\n",
    "    return val_arr\n",
    "end\n",
    "\n",
    "function G_ABC_Lehmann1(A::Operator, B::Operator,C::Operator, τ1::Array{T,1},\n",
    "    τ2::Array{T,1},H::Operator,β::Real) where T <: Real\n",
    "    H_eigvec = eigvecs(Array(H)) .+ 0im\n",
    "    H_eigene = eigvals(Array(H))\n",
    "    H_eigene = H_eigene .- H_eigene[1] #shift spectrum\n",
    "    Z = 0\n",
    "    result = zeros(length(τ1),length(τ2)) .+ 0im\n",
    "    for i in 1:length(H_eigene)\n",
    "        if i == 1\n",
    "            result=G_ABC_n_ord_Lehmann1(H_eigvec,H_eigene,H_eigene[i],A,B,C,H_eigvec[:,i],τ1,τ2,β)\n",
    "        else\n",
    "            result=result .+ G_ABC_n_ord_Lehmann1(H_eigvec,H_eigene,H_eigene[i],A,B,C,H_eigvec[:,i],τ1,τ2,β)\n",
    "        end\n",
    "        Z += exp(-β*H_eigene[i])\n",
    "    end\n",
    "    result = -1.0 .* result ./ Z\n",
    "    return result\n",
    "end"
   ]
  },
  {
   "cell_type": "markdown",
   "id": "0279a311",
   "metadata": {},
   "source": [
    "We reuse this code for our representation of the analytically transformed Lehmann representation:"
   ]
  },
  {
   "cell_type": "code",
   "execution_count": null,
   "id": "d711c090",
   "metadata": {},
   "outputs": [],
   "source": [
    "function G_ABC_n_ord_Lehmann(Ψn::Array{Complex{T},2},ϵ::Array{T,1},ϵ_n::Real, A::Operator,B::Operator,\n",
    "    C::Operator,n::Array{Complex{T},1}, ω1::Array{T,1},ω2::Array{T,1},β::Real) where T <: Real\n",
    "    val_arr1 = zeros(length(ω1),length(ω2)) .+ 0im\n",
    "    for i in 1:length(ω1), j in 1:length(ω2)\n",
    "        #if ω1[i] >= ω2[j]\n",
    "            val_arr[i,j] = 0 + 0im\n",
    "            for m in 1:length(ϵ), s in 1:length(ϵ)\n",
    "                val_arr[i,j] += dot(n,A*Ψn[:,m])*dot(Ψn[:,m],B*Ψn[:,s])*dot(Ψn[:,s],C*n)*(exp(-β*(ϵ[m]-ϵ_n))+1)/(ϵ[m]-ϵ_n-im*ω1[i])*(exp(-β*(ϵ[s]-ϵ[m]))+1)/(ϵ[s]-ϵ[m]-im*ω2[j])\n",
    "                #*exp(-ϵ[m]*(τ1[i]-τ2[j])-ϵ[s]*τ2[j])\n",
    "            end\n",
    "            val_arr[i,j] *= exp(-ϵ_n*β)\n",
    "        #else #τ2 > τ1\n",
    "            val_arr[i,j] = 0 + 0im\n",
    "            for m in 1:length(ϵ), s in 1:length(ϵ)\n",
    "                val_arr[i,j] += dot(n,B*Ψn[:,m])*dot(Ψn[:,m],A*Ψn[:,s])*dot(Ψn[:,s],C*n)*(exp(-β*(ϵ[m]-ϵ_n))+1)/(ϵ[m]-ϵ_n-im*ω2[j])*(exp(-β*(ϵ[s]-ϵ[m]))+1)/(ϵ[s]-ϵ[m]-im*ω1[i])\n",
    "                #*exp(-ϵ[m]*(τ2[j]-τ1[i])-ϵ[s]*τ1[i])\n",
    "            end\n",
    "            if wick_parity(A) * wick_parity(B) == 1 #two fermionic Operators\n",
    "                val_arr[i,j] *= -1.0*exp(-ϵ_n*β)\n",
    "            else\n",
    "                val_arr[i,j] *= exp(-ϵ_n*β)\n",
    "            end\n",
    "        end\n",
    "    end\n",
    "    return val_arr\n",
    "end\n",
    "\n",
    "function G_ABC_Lehmann(A::Operator, B::Operator,C::Operator, τ1::Array{T,1},\n",
    "    τ2::Array{T,1},H::Operator,β::Real, n_max1::Integer, n_max2::Integer) where T <: Real\n",
    "    \n",
    "    n1 = collect(-n_max1:1:n_max1)\n",
    "    ω1 = (2n1.+1)*π/β\n",
    "    \n",
    "    n2 = collect(-n_max2:1:n_max2)\n",
    "    ω2 = (2n2.+1)*π/β\n",
    "    \n",
    "    H_eigvec = eigvecs(Array(H)) .+ 0im\n",
    "    H_eigene = eigvals(Array(H))\n",
    "    H_eigene = H_eigene .- H_eigene[1] #shift spectrum\n",
    "    Z = 0\n",
    "    result = zeros(length(τ1),length(τ2)) .+ 0im\n",
    "    for i in 1:length(H_eigene)\n",
    "        if i == 1\n",
    "            result=G_ABC_n_ord_Lehmann(H_eigvec,H_eigene,H_eigene[i],A,B,C,H_eigvec[:,i],ω1,ω2,β)\n",
    "        else\n",
    "            result=result .+ G_ABC_n_ord_Lehmann(H_eigvec,H_eigene,H_eigene[i],A,B,C,H_eigvec[:,i],ω1,ω2,β)\n",
    "        end\n",
    "        Z += exp(-β*H_eigene[i])\n",
    "    end\n",
    "    result = -1.0 .* result ./ Z\n",
    "    return result\n",
    "end"
   ]
  },
  {
   "cell_type": "code",
   "execution_count": null,
   "id": "40cb6fd2",
   "metadata": {},
   "outputs": [],
   "source": [
    "space3 = FockSpace(4)\n",
    "c3 = annihilators(space3)\n",
    "H3 = Hubbard(space3,3.,-1.,1.5)\n",
    "β3 = 10.\n",
    "A3 = Operator(space3)\n",
    "A3 += 1.0 * c3[1]\n",
    "B3 = Operator(space3)\n",
    "B3 += 1.0 * c3[3]'*c3[3]\n",
    "C3 = Operator(space3)\n",
    "C3 += 1.0 * c3[1]'\n",
    "τ1_arr = [0.0]\n",
    "τ2_arr = [0.0,1.0,2.0,3.0,4.0,5.0,6.0,7.0,8.0,9.0,10.0]\n",
    "for i in 1:100\n",
    "    push!(τ1_arr,i/10)\n",
    "end\n",
    "G_1b3b1_Lehmann = real(G_ABC_Lehmann1(A3,B3,C3,τ1_arr,τ2_arr,H3,β3)[:,:])\n",
    "G_1b3b1_00 = real(G_ABC(A3,B3,C3,τ1_arr,τ2_arr,H3,β3,space3,0.0)[:,:])\n",
    "G_1b3b1_0000001 = real(G_ABC(A3,B3,C3,τ1_arr,τ2_arr,H3,β3,space3,0.000001)[:,:])\n",
    "G_1b3b1_000001 = real(G_ABC(A3,B3,C3,τ1_arr,τ2_arr,H3,β3,space3,0.00001)[:,:])\n",
    "G_1b3b1_00001 = real(G_ABC(A3,B3,C3,τ1_arr,τ2_arr,H3,β3,space3,0.0001)[:,:])\n",
    "G_1b3b1_0001 = real(G_ABC(A3,B3,C3,τ1_arr,τ2_arr,H3,β3,space3,0.001)[:,:])\n",
    "G_1b3b1_05 = real(G_ABC(A3,B3,C3,τ1_arr,τ2_arr,H3,β3,space3,0.5)[:,:])\n",
    "plot(τ1_arr,[G_1b3b1_Lehmann[:,6],G_1b3b1_00[:,6],G_1b3b1_0000001[:,6],G_1b3b1_000001[:,6],G_1b3b1_00001[:,6],G_1b3b1_0001[:,6],G_1b3b1_05[:,6]],title = \"G_1b3b1 - τ2 = 5\", label = [\"Lehmann\" \"δ=0.0\" \"δ=10^{-6}\" \"δ=10^{-5}\" \"δ=10^{-4}\" \"δ=10^{-3}\" \"δ=0.5\"], lw = 1, xlabel = \"τ1\",fmt = :png)\n"
   ]
  },
  {
   "cell_type": "code",
   "execution_count": null,
   "id": "6ef831dd",
   "metadata": {},
   "outputs": [],
   "source": [
    "n_max3 = 50\n",
    "n3 = collect(-n_max:1:n_max)\n",
    "ω3 = (2n.+1)*π/β\n",
    "\n",
    "transform3_Lehmann = imag(G_ABC_Lehmann(A3,B3,C3,τ1_arr,τ2_arr,H3,β3, n_max3, n_max3)[:,:])\n",
    "\n",
    "plot(ω3, transform3_Lehmann, lw = 1, xlabel = \"ω1\",fmt = :png)"
   ]
  },
  {
   "cell_type": "markdown",
   "id": "b94708f7",
   "metadata": {},
   "source": [
    "Again: Integral as a Sum\n",
    "\n",
    "\\begin{align}\n",
    "    G(i \\omega_n) \\approx \\sum_{j} e^{i \\omega_n \\tau_j} G(\\tau_j) * \\Delta \\tau\n",
    "\\end{align}"
   ]
  },
  {
   "cell_type": "code",
   "execution_count": null,
   "id": "80571525",
   "metadata": {},
   "outputs": [],
   "source": [
    "using PyPlot;\n",
    "surf(ω3, ω3, transform3_Lehmann)"
   ]
  },
  {
   "cell_type": "code",
   "execution_count": null,
   "id": "42e504aa",
   "metadata": {},
   "outputs": [],
   "source": [
    "plot(ω3, ω3, transform3_Lehmann, st=:surface)"
   ]
  },
  {
   "cell_type": "code",
   "execution_count": null,
   "id": "c114946b",
   "metadata": {},
   "outputs": [],
   "source": []
  }
 ],
 "metadata": {
  "kernelspec": {
   "display_name": "Julia 1.7.2",
   "language": "julia",
   "name": "julia-1.7"
  },
  "language_info": {
   "file_extension": ".jl",
   "mimetype": "application/julia",
   "name": "julia",
   "version": "1.7.2"
  }
 },
 "nbformat": 4,
 "nbformat_minor": 5
}
